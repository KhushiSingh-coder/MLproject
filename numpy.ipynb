{
 "cells": [
  {
   "cell_type": "code",
   "execution_count": 4,
   "id": "9de8c195",
   "metadata": {},
   "outputs": [],
   "source": [
    "import numpy as np"
   ]
  },
  {
   "cell_type": "code",
   "execution_count": 5,
   "id": "819a804c",
   "metadata": {},
   "outputs": [],
   "source": [
    "#1 : What is NumPy ? \n",
    "#Numpy is scientific computing library for python. \n",
    "#Support large number of data in the form of multidimensional array and matrix. \n",
    "#Use for mathematics calculation like linear algebra, Fourier transform and\n",
    "#random number capabilities.  How to Represent Multidimensional array "
   ]
  },
  {
   "cell_type": "code",
   "execution_count": 6,
   "id": "f420392e",
   "metadata": {},
   "outputs": [],
   "source": [
    "#1D Array "
   ]
  },
  {
   "cell_type": "code",
   "execution_count": 39,
   "id": "df84d77d",
   "metadata": {},
   "outputs": [],
   "source": [
    "arr = np.array([[1,2,3,4,5],[2,3,4,5,6],[9,7,6,8,9]])"
   ]
  },
  {
   "cell_type": "code",
   "execution_count": 40,
   "id": "2fcfb0b8",
   "metadata": {},
   "outputs": [
    {
     "data": {
      "text/plain": [
       "array([[1, 2, 3, 4, 5],\n",
       "       [2, 3, 4, 5, 6],\n",
       "       [9, 7, 6, 8, 9]])"
      ]
     },
     "execution_count": 40,
     "metadata": {},
     "output_type": "execute_result"
    }
   ],
   "source": [
    "arr"
   ]
  },
  {
   "cell_type": "code",
   "execution_count": 41,
   "id": "4b82580e",
   "metadata": {},
   "outputs": [
    {
     "data": {
      "text/plain": [
       "2"
      ]
     },
     "execution_count": 41,
     "metadata": {},
     "output_type": "execute_result"
    }
   ],
   "source": [
    "arr.ndim"
   ]
  },
  {
   "cell_type": "code",
   "execution_count": 42,
   "id": "fb9ea2b4",
   "metadata": {},
   "outputs": [
    {
     "data": {
      "text/plain": [
       "array([[1, 2],\n",
       "       [2, 3]])"
      ]
     },
     "execution_count": 42,
     "metadata": {},
     "output_type": "execute_result"
    }
   ],
   "source": [
    "arr[0:2, 0:2]"
   ]
  },
  {
   "cell_type": "code",
   "execution_count": 43,
   "id": "41986aec",
   "metadata": {},
   "outputs": [
    {
     "data": {
      "text/plain": [
       "array([[5, 6],\n",
       "       [8, 9]])"
      ]
     },
     "execution_count": 43,
     "metadata": {},
     "output_type": "execute_result"
    }
   ],
   "source": [
    "arr[1:, 3:]"
   ]
  },
  {
   "cell_type": "code",
   "execution_count": 44,
   "id": "947d0e0e",
   "metadata": {},
   "outputs": [],
   "source": [
    "#Now u have to get output of 345 768"
   ]
  },
  {
   "cell_type": "code",
   "execution_count": 76,
   "id": "5f7daa16",
   "metadata": {},
   "outputs": [
    {
     "data": {
      "text/plain": [
       "array([[3, 4, 5],\n",
       "       [4, 5, 6],\n",
       "       [6, 8, 9]])"
      ]
     },
     "execution_count": 76,
     "metadata": {},
     "output_type": "execute_result"
    }
   ],
   "source": [
    "arr[0:3 , 2:5:1 ]"
   ]
  },
  {
   "cell_type": "code",
   "execution_count": 64,
   "id": "39c93fe4",
   "metadata": {},
   "outputs": [
    {
     "data": {
      "text/plain": [
       "array([[3, 4, 5]])"
      ]
     },
     "execution_count": 64,
     "metadata": {},
     "output_type": "execute_result"
    }
   ],
   "source": [
    "arr[0:1, 2:] \n"
   ]
  },
  {
   "cell_type": "code",
   "execution_count": 58,
   "id": "d1df270e",
   "metadata": {},
   "outputs": [
    {
     "data": {
      "text/plain": [
       "array([7, 6, 8])"
      ]
     },
     "execution_count": 58,
     "metadata": {},
     "output_type": "execute_result"
    }
   ],
   "source": [
    "arr[2 , 1:4]"
   ]
  },
  {
   "cell_type": "code",
   "execution_count": 78,
   "id": "bf40f009",
   "metadata": {},
   "outputs": [
    {
     "data": {
      "text/plain": [
       "array([5, 5, 9])"
      ]
     },
     "execution_count": 78,
     "metadata": {},
     "output_type": "execute_result"
    }
   ],
   "source": [
    "arr[0, 2:] +  [2 ,1,4]"
   ]
  },
  {
   "cell_type": "code",
   "execution_count": 4,
   "id": "90827d79",
   "metadata": {},
   "outputs": [],
   "source": [
    "a = np.array([1,2,3]) "
   ]
  },
  {
   "cell_type": "code",
   "execution_count": 5,
   "id": "d85fdd35",
   "metadata": {},
   "outputs": [
    {
     "data": {
      "text/plain": [
       "array([1, 2, 3])"
      ]
     },
     "execution_count": 5,
     "metadata": {},
     "output_type": "execute_result"
    }
   ],
   "source": [
    "a"
   ]
  },
  {
   "cell_type": "code",
   "execution_count": 6,
   "id": "dfd03e2b",
   "metadata": {},
   "outputs": [],
   "source": [
    "#2D Array "
   ]
  },
  {
   "cell_type": "code",
   "execution_count": 7,
   "id": "04515cbc",
   "metadata": {},
   "outputs": [],
   "source": [
    "a = np.array([  [1,2,3],  [1,2,3],  [1,2,3] ]) #list of list a "
   ]
  },
  {
   "cell_type": "code",
   "execution_count": 8,
   "id": "14831bcc",
   "metadata": {},
   "outputs": [
    {
     "data": {
      "text/plain": [
       "array([[1, 2, 3],\n",
       "       [1, 2, 3],\n",
       "       [1, 2, 3]])"
      ]
     },
     "execution_count": 8,
     "metadata": {},
     "output_type": "execute_result"
    }
   ],
   "source": [
    "a"
   ]
  },
  {
   "cell_type": "code",
   "execution_count": 9,
   "id": "09b5475c",
   "metadata": {},
   "outputs": [],
   "source": [
    "#3D Array "
   ]
  },
  {
   "cell_type": "code",
   "execution_count": 10,
   "id": "837d0056",
   "metadata": {},
   "outputs": [],
   "source": [
    "a = np.array([ [[1,2,3],[1,2,3],[1,2,3]],  [[1,2,3],[1,2,3],[1,2,3]], [[1,2,3],[1,2,3],[1,2,3]] ]) #list of list of list "
   ]
  },
  {
   "cell_type": "code",
   "execution_count": 11,
   "id": "67e2bf70",
   "metadata": {},
   "outputs": [
    {
     "data": {
      "text/plain": [
       "array([[[1, 2, 3],\n",
       "        [1, 2, 3],\n",
       "        [1, 2, 3]],\n",
       "\n",
       "       [[1, 2, 3],\n",
       "        [1, 2, 3],\n",
       "        [1, 2, 3]],\n",
       "\n",
       "       [[1, 2, 3],\n",
       "        [1, 2, 3],\n",
       "        [1, 2, 3]]])"
      ]
     },
     "execution_count": 11,
     "metadata": {},
     "output_type": "execute_result"
    }
   ],
   "source": [
    "a"
   ]
  },
  {
   "cell_type": "code",
   "execution_count": 12,
   "id": "57d81e55",
   "metadata": {},
   "outputs": [],
   "source": [
    "#Numpy vs Python List \n",
    "#Written in c & Python \n",
    "#Fast Process \n",
    "#Use less memory to store data "
   ]
  },
  {
   "cell_type": "code",
   "execution_count": 13,
   "id": "716780ab",
   "metadata": {},
   "outputs": [],
   "source": [
    "#2 : How To Create a Array"
   ]
  },
  {
   "cell_type": "code",
   "execution_count": 14,
   "id": "67a0ed0d",
   "metadata": {},
   "outputs": [],
   "source": [
    "array_1d = np.array([1,2,3,4,5])  "
   ]
  },
  {
   "cell_type": "code",
   "execution_count": 15,
   "id": "983275e8",
   "metadata": {},
   "outputs": [
    {
     "data": {
      "text/plain": [
       "array([1, 2, 3, 4, 5])"
      ]
     },
     "execution_count": 15,
     "metadata": {},
     "output_type": "execute_result"
    }
   ],
   "source": [
    "array_1d"
   ]
  },
  {
   "cell_type": "code",
   "execution_count": 16,
   "id": "8eccf2dd",
   "metadata": {},
   "outputs": [
    {
     "data": {
      "text/plain": [
       "1"
      ]
     },
     "execution_count": 16,
     "metadata": {},
     "output_type": "execute_result"
    }
   ],
   "source": [
    "array_1d.ndim # ndim will show the dimention"
   ]
  },
  {
   "cell_type": "code",
   "execution_count": 17,
   "id": "654f6c05",
   "metadata": {},
   "outputs": [
    {
     "name": "stdout",
     "output_type": "stream",
     "text": [
      "<class 'numpy.ndarray'>\n"
     ]
    }
   ],
   "source": [
    " print(type(array_1d))  #find array type  print(type(array_1d)) "
   ]
  },
  {
   "cell_type": "code",
   "execution_count": 18,
   "id": "f8d69c56",
   "metadata": {},
   "outputs": [
    {
     "data": {
      "text/plain": [
       "(5,)"
      ]
     },
     "execution_count": 18,
     "metadata": {},
     "output_type": "execute_result"
    }
   ],
   "source": [
    "array_1d.shape "
   ]
  },
  {
   "cell_type": "code",
   "execution_count": 19,
   "id": "01cf2cb0",
   "metadata": {},
   "outputs": [
    {
     "data": {
      "text/plain": [
       "5"
      ]
     },
     "execution_count": 19,
     "metadata": {},
     "output_type": "execute_result"
    }
   ],
   "source": [
    "array_1d.size "
   ]
  },
  {
   "cell_type": "code",
   "execution_count": 20,
   "id": "46b21bc0",
   "metadata": {},
   "outputs": [],
   "source": [
    "a = np.array([[[1,2,3,4],[10,20,30,40]],[[5,6,7,8],[50,60,70,80]]]) "
   ]
  },
  {
   "cell_type": "code",
   "execution_count": 21,
   "id": "dceca142",
   "metadata": {},
   "outputs": [
    {
     "data": {
      "text/plain": [
       "array([[[ 1,  2,  3,  4],\n",
       "        [10, 20, 30, 40]],\n",
       "\n",
       "       [[ 5,  6,  7,  8],\n",
       "        [50, 60, 70, 80]]])"
      ]
     },
     "execution_count": 21,
     "metadata": {},
     "output_type": "execute_result"
    }
   ],
   "source": [
    "a"
   ]
  },
  {
   "cell_type": "code",
   "execution_count": 22,
   "id": "a31ea9fd",
   "metadata": {},
   "outputs": [
    {
     "data": {
      "text/plain": [
       "16"
      ]
     },
     "execution_count": 22,
     "metadata": {},
     "output_type": "execute_result"
    }
   ],
   "source": [
    "a.size"
   ]
  },
  {
   "cell_type": "code",
   "execution_count": 23,
   "id": "dda8447a",
   "metadata": {},
   "outputs": [
    {
     "data": {
      "text/plain": [
       "dtype('int32')"
      ]
     },
     "execution_count": 23,
     "metadata": {},
     "output_type": "execute_result"
    }
   ],
   "source": [
    "array_1d.dtype "
   ]
  },
  {
   "cell_type": "code",
   "execution_count": 24,
   "id": "5db1213b",
   "metadata": {},
   "outputs": [
    {
     "data": {
      "text/plain": [
       "(2, 2, 4)"
      ]
     },
     "execution_count": 24,
     "metadata": {},
     "output_type": "execute_result"
    }
   ],
   "source": [
    "a.shape "
   ]
  },
  {
   "cell_type": "code",
   "execution_count": 25,
   "id": "6b08f263",
   "metadata": {},
   "outputs": [],
   "source": [
    "array_2d = np.array([[10,20,30,40],[11,22,33,77],[44,55,66,88]]) "
   ]
  },
  {
   "cell_type": "code",
   "execution_count": 26,
   "id": "344eec91",
   "metadata": {},
   "outputs": [
    {
     "data": {
      "text/plain": [
       "array([[10, 20, 30, 40],\n",
       "       [11, 22, 33, 77],\n",
       "       [44, 55, 66, 88]])"
      ]
     },
     "execution_count": 26,
     "metadata": {},
     "output_type": "execute_result"
    }
   ],
   "source": [
    "array_2d"
   ]
  },
  {
   "cell_type": "code",
   "execution_count": 27,
   "id": "b3a6dad8",
   "metadata": {},
   "outputs": [
    {
     "data": {
      "text/plain": [
       "2"
      ]
     },
     "execution_count": 27,
     "metadata": {},
     "output_type": "execute_result"
    }
   ],
   "source": [
    "array_2d.ndim  #ndim tells the dimension"
   ]
  },
  {
   "cell_type": "code",
   "execution_count": 28,
   "id": "ce0caef7",
   "metadata": {},
   "outputs": [
    {
     "data": {
      "text/plain": [
       "(3, 4)"
      ]
     },
     "execution_count": 28,
     "metadata": {},
     "output_type": "execute_result"
    }
   ],
   "source": [
    "array_2d.shape "
   ]
  },
  {
   "cell_type": "code",
   "execution_count": 29,
   "id": "5e1ebd4a",
   "metadata": {},
   "outputs": [
    {
     "data": {
      "text/plain": [
       "12"
      ]
     },
     "execution_count": 29,
     "metadata": {},
     "output_type": "execute_result"
    }
   ],
   "source": [
    "array_2d.size"
   ]
  },
  {
   "cell_type": "code",
   "execution_count": 30,
   "id": "3419387e",
   "metadata": {},
   "outputs": [],
   "source": [
    "array_3d = np.array([  [ \n",
    " [10,20,30,40],  [11,22,33,77],  [44,55,66,88],  ], \n",
    " [ \n",
    " [10,20,30,40],  [11,22,33,77],  [44,55,66,88],  ], \n",
    " [ \n",
    " [10,20,30,40],  [11,22,33,77],  [44,55,66,88],  ] ])"
   ]
  },
  {
   "cell_type": "code",
   "execution_count": 31,
   "id": "e7eda25f",
   "metadata": {},
   "outputs": [
    {
     "data": {
      "text/plain": [
       "array([[[10, 20, 30, 40],\n",
       "        [11, 22, 33, 77],\n",
       "        [44, 55, 66, 88]],\n",
       "\n",
       "       [[10, 20, 30, 40],\n",
       "        [11, 22, 33, 77],\n",
       "        [44, 55, 66, 88]],\n",
       "\n",
       "       [[10, 20, 30, 40],\n",
       "        [11, 22, 33, 77],\n",
       "        [44, 55, 66, 88]]])"
      ]
     },
     "execution_count": 31,
     "metadata": {},
     "output_type": "execute_result"
    }
   ],
   "source": [
    "array_3d"
   ]
  },
  {
   "cell_type": "code",
   "execution_count": 32,
   "id": "08ba75b9",
   "metadata": {},
   "outputs": [
    {
     "data": {
      "text/plain": [
       "3"
      ]
     },
     "execution_count": 32,
     "metadata": {},
     "output_type": "execute_result"
    }
   ],
   "source": [
    "array_3d.ndim "
   ]
  },
  {
   "cell_type": "code",
   "execution_count": 33,
   "id": "b57917ec",
   "metadata": {},
   "outputs": [
    {
     "data": {
      "text/plain": [
       "(3, 3, 4)"
      ]
     },
     "execution_count": 33,
     "metadata": {},
     "output_type": "execute_result"
    }
   ],
   "source": [
    "array_3d.shape"
   ]
  },
  {
   "cell_type": "code",
   "execution_count": 34,
   "id": "c1458821",
   "metadata": {},
   "outputs": [
    {
     "data": {
      "text/plain": [
       "36"
      ]
     },
     "execution_count": 34,
     "metadata": {},
     "output_type": "execute_result"
    }
   ],
   "source": [
    "array_3d.size "
   ]
  },
  {
   "cell_type": "code",
   "execution_count": 35,
   "id": "b46ad53b",
   "metadata": {},
   "outputs": [],
   "source": [
    "#Create ones matrix "
   ]
  },
  {
   "cell_type": "code",
   "execution_count": 36,
   "id": "b78d650c",
   "metadata": {},
   "outputs": [],
   "source": [
    "two = np.array([[2,2,2],[2,2,2],[2,2,2]])"
   ]
  },
  {
   "cell_type": "code",
   "execution_count": 37,
   "id": "916d70b5",
   "metadata": {},
   "outputs": [
    {
     "data": {
      "text/plain": [
       "array([[2, 2, 2],\n",
       "       [2, 2, 2],\n",
       "       [2, 2, 2]])"
      ]
     },
     "execution_count": 37,
     "metadata": {},
     "output_type": "execute_result"
    }
   ],
   "source": [
    "two"
   ]
  },
  {
   "cell_type": "code",
   "execution_count": 38,
   "id": "b62ec124",
   "metadata": {},
   "outputs": [
    {
     "name": "stdout",
     "output_type": "stream",
     "text": [
      "<class 'numpy.ndarray'>\n"
     ]
    }
   ],
   "source": [
    "print(type(two))"
   ]
  },
  {
   "cell_type": "code",
   "execution_count": 39,
   "id": "2647e93e",
   "metadata": {},
   "outputs": [
    {
     "data": {
      "text/plain": [
       "array([2, 2, 2, 2, 2, 2, 2, 2, 2])"
      ]
     },
     "execution_count": 39,
     "metadata": {},
     "output_type": "execute_result"
    }
   ],
   "source": [
    "two.flatten() #flatten will convert any metrics to one dimentional array"
   ]
  },
  {
   "cell_type": "code",
   "execution_count": 40,
   "id": "8bbc6f6a",
   "metadata": {},
   "outputs": [],
   "source": [
    "ones = np.array([[1,1,1],[1,1,1],[1,1,1]]) "
   ]
  },
  {
   "cell_type": "code",
   "execution_count": 41,
   "id": "8821aab9",
   "metadata": {},
   "outputs": [
    {
     "data": {
      "text/plain": [
       "array([[1, 1, 1],\n",
       "       [1, 1, 1],\n",
       "       [1, 1, 1]])"
      ]
     },
     "execution_count": 41,
     "metadata": {},
     "output_type": "execute_result"
    }
   ],
   "source": [
    "ones"
   ]
  },
  {
   "cell_type": "code",
   "execution_count": 42,
   "id": "9f22ce36",
   "metadata": {},
   "outputs": [],
   "source": [
    "ones_array = np.ones(15) "
   ]
  },
  {
   "cell_type": "code",
   "execution_count": 43,
   "id": "9e8af191",
   "metadata": {},
   "outputs": [
    {
     "data": {
      "text/plain": [
       "array([1., 1., 1., 1., 1., 1., 1., 1., 1., 1., 1., 1., 1., 1., 1.])"
      ]
     },
     "execution_count": 43,
     "metadata": {},
     "output_type": "execute_result"
    }
   ],
   "source": [
    "ones_array"
   ]
  },
  {
   "cell_type": "code",
   "execution_count": 44,
   "id": "898602e3",
   "metadata": {},
   "outputs": [
    {
     "data": {
      "text/plain": [
       "1"
      ]
     },
     "execution_count": 44,
     "metadata": {},
     "output_type": "execute_result"
    }
   ],
   "source": [
    "ones_array.ndim "
   ]
  },
  {
   "cell_type": "code",
   "execution_count": 45,
   "id": "7a5c0f2d",
   "metadata": {},
   "outputs": [
    {
     "data": {
      "text/plain": [
       "1"
      ]
     },
     "execution_count": 45,
     "metadata": {},
     "output_type": "execute_result"
    }
   ],
   "source": [
    "ones_array.ndim "
   ]
  },
  {
   "cell_type": "code",
   "execution_count": 46,
   "id": "1ecd17a3",
   "metadata": {},
   "outputs": [
    {
     "data": {
      "text/plain": [
       "dtype('float64')"
      ]
     },
     "execution_count": 46,
     "metadata": {},
     "output_type": "execute_result"
    }
   ],
   "source": [
    "ones_array.dtype #bydefault creating a float value ones function in array "
   ]
  },
  {
   "cell_type": "code",
   "execution_count": 47,
   "id": "553ef6bc",
   "metadata": {},
   "outputs": [],
   "source": [
    "#2D ones matrix \n",
    "ones_2dmx = np.ones((3,4), dtype='int') "
   ]
  },
  {
   "cell_type": "code",
   "execution_count": 48,
   "id": "be6c522c",
   "metadata": {},
   "outputs": [
    {
     "data": {
      "text/plain": [
       "array([[1, 1, 1, 1],\n",
       "       [1, 1, 1, 1],\n",
       "       [1, 1, 1, 1]])"
      ]
     },
     "execution_count": 48,
     "metadata": {},
     "output_type": "execute_result"
    }
   ],
   "source": [
    "ones_2dmx "
   ]
  },
  {
   "cell_type": "code",
   "execution_count": 49,
   "id": "fb155c95",
   "metadata": {},
   "outputs": [],
   "source": [
    "ones_2dmx = np.ones((3,3,4), dtype='str')"
   ]
  },
  {
   "cell_type": "code",
   "execution_count": 50,
   "id": "0c8ffb64",
   "metadata": {},
   "outputs": [
    {
     "data": {
      "text/plain": [
       "array([[['1', '1', '1', '1'],\n",
       "        ['1', '1', '1', '1'],\n",
       "        ['1', '1', '1', '1']],\n",
       "\n",
       "       [['1', '1', '1', '1'],\n",
       "        ['1', '1', '1', '1'],\n",
       "        ['1', '1', '1', '1']],\n",
       "\n",
       "       [['1', '1', '1', '1'],\n",
       "        ['1', '1', '1', '1'],\n",
       "        ['1', '1', '1', '1']]], dtype='<U1')"
      ]
     },
     "execution_count": 50,
     "metadata": {},
     "output_type": "execute_result"
    }
   ],
   "source": [
    "ones_2dmx "
   ]
  },
  {
   "cell_type": "code",
   "execution_count": 51,
   "id": "dfd01ae3",
   "metadata": {},
   "outputs": [],
   "source": [
    "#Create a zeros matrix "
   ]
  },
  {
   "cell_type": "code",
   "execution_count": 52,
   "id": "b253301c",
   "metadata": {},
   "outputs": [],
   "source": [
    "zeros_mx = np.zeros((3,3,4), dtype='str') "
   ]
  },
  {
   "cell_type": "code",
   "execution_count": 53,
   "id": "f9d27e81",
   "metadata": {},
   "outputs": [
    {
     "data": {
      "text/plain": [
       "array([[['', '', '', ''],\n",
       "        ['', '', '', ''],\n",
       "        ['', '', '', '']],\n",
       "\n",
       "       [['', '', '', ''],\n",
       "        ['', '', '', ''],\n",
       "        ['', '', '', '']],\n",
       "\n",
       "       [['', '', '', ''],\n",
       "        ['', '', '', ''],\n",
       "        ['', '', '', '']]], dtype='<U1')"
      ]
     },
     "execution_count": 53,
     "metadata": {},
     "output_type": "execute_result"
    }
   ],
   "source": [
    "zeros_mx "
   ]
  },
  {
   "cell_type": "code",
   "execution_count": 54,
   "id": "6c818cec",
   "metadata": {},
   "outputs": [],
   "source": [
    "zeros_mx = np.zeros((4,4), dtype='int') "
   ]
  },
  {
   "cell_type": "code",
   "execution_count": 55,
   "id": "cc0a6128",
   "metadata": {},
   "outputs": [
    {
     "data": {
      "text/plain": [
       "array([[0, 0, 0, 0],\n",
       "       [0, 0, 0, 0],\n",
       "       [0, 0, 0, 0],\n",
       "       [0, 0, 0, 0]])"
      ]
     },
     "execution_count": 55,
     "metadata": {},
     "output_type": "execute_result"
    }
   ],
   "source": [
    "zeros_mx"
   ]
  },
  {
   "cell_type": "code",
   "execution_count": 56,
   "id": "0e9399ce",
   "metadata": {},
   "outputs": [],
   "source": [
    "zeros_mx = np.zeros((4,4), dtype=bool)"
   ]
  },
  {
   "cell_type": "code",
   "execution_count": 57,
   "id": "02eba141",
   "metadata": {},
   "outputs": [
    {
     "data": {
      "text/plain": [
       "array([[False, False, False, False],\n",
       "       [False, False, False, False],\n",
       "       [False, False, False, False],\n",
       "       [False, False, False, False]])"
      ]
     },
     "execution_count": 57,
     "metadata": {},
     "output_type": "execute_result"
    }
   ],
   "source": [
    "zeros_mx"
   ]
  },
  {
   "cell_type": "code",
   "execution_count": 58,
   "id": "f2b03916",
   "metadata": {},
   "outputs": [],
   "source": [
    "#range() function "
   ]
  },
  {
   "cell_type": "code",
   "execution_count": 59,
   "id": "26947982",
   "metadata": {},
   "outputs": [],
   "source": [
    "#synatx : arange([start,] stop[, step,], dtype=None) 2 \n",
    "Range = np.arange(0,6).reshape(3,2) "
   ]
  },
  {
   "cell_type": "code",
   "execution_count": 60,
   "id": "8651739c",
   "metadata": {},
   "outputs": [
    {
     "data": {
      "text/plain": [
       "array([[0, 1],\n",
       "       [2, 3],\n",
       "       [4, 5]])"
      ]
     },
     "execution_count": 60,
     "metadata": {},
     "output_type": "execute_result"
    }
   ],
   "source": [
    "Range "
   ]
  },
  {
   "cell_type": "code",
   "execution_count": 61,
   "id": "8897ba42",
   "metadata": {},
   "outputs": [],
   "source": [
    "Range = np.arange(2,21,2).reshape(5,2) "
   ]
  },
  {
   "cell_type": "code",
   "execution_count": 62,
   "id": "63d43904",
   "metadata": {},
   "outputs": [
    {
     "data": {
      "text/plain": [
       "array([[ 2,  4],\n",
       "       [ 6,  8],\n",
       "       [10, 12],\n",
       "       [14, 16],\n",
       "       [18, 20]])"
      ]
     },
     "execution_count": 62,
     "metadata": {},
     "output_type": "execute_result"
    }
   ],
   "source": [
    "Range"
   ]
  },
  {
   "cell_type": "code",
   "execution_count": 63,
   "id": "722c5e63",
   "metadata": {},
   "outputs": [],
   "source": [
    "# linespace()"
   ]
  },
  {
   "cell_type": "code",
   "execution_count": 64,
   "id": "3fcd6272",
   "metadata": {},
   "outputs": [],
   "source": [
    "# Syntax : np.linspace(start,stop,num=50,endpoint=True, 2 \n",
    "# retstep=False,dtype=None,axis=0) 3 \n",
    "Linesp = np.linspace(1,10,5 ,endpoint=True, retstep=True, axis=0) "
   ]
  },
  {
   "cell_type": "code",
   "execution_count": 65,
   "id": "5f4cdaa2",
   "metadata": {},
   "outputs": [
    {
     "data": {
      "text/plain": [
       "(array([ 1.  ,  3.25,  5.5 ,  7.75, 10.  ]), 2.25)"
      ]
     },
     "execution_count": 65,
     "metadata": {},
     "output_type": "execute_result"
    }
   ],
   "source": [
    "Linesp"
   ]
  },
  {
   "cell_type": "code",
   "execution_count": 66,
   "id": "5a0aaec5",
   "metadata": {},
   "outputs": [],
   "source": [
    "Linesp = np.linspace(1,10,10, endpoint=False, retstep=True) "
   ]
  },
  {
   "cell_type": "code",
   "execution_count": 67,
   "id": "e38f1fbf",
   "metadata": {},
   "outputs": [
    {
     "data": {
      "text/plain": [
       "(array([1. , 1.9, 2.8, 3.7, 4.6, 5.5, 6.4, 7.3, 8.2, 9.1]), 0.9)"
      ]
     },
     "execution_count": 67,
     "metadata": {},
     "output_type": "execute_result"
    }
   ],
   "source": [
    "Linesp"
   ]
  },
  {
   "cell_type": "code",
   "execution_count": 68,
   "id": "3997b657",
   "metadata": {},
   "outputs": [],
   "source": [
    "Linesp = np.linspace(1,10,10, endpoint=True, retstep=True) "
   ]
  },
  {
   "cell_type": "code",
   "execution_count": 69,
   "id": "930f87e5",
   "metadata": {},
   "outputs": [
    {
     "data": {
      "text/plain": [
       "(array([ 1.,  2.,  3.,  4.,  5.,  6.,  7.,  8.,  9., 10.]), 1.0)"
      ]
     },
     "execution_count": 69,
     "metadata": {},
     "output_type": "execute_result"
    }
   ],
   "source": [
    "Linesp"
   ]
  },
  {
   "cell_type": "code",
   "execution_count": 70,
   "id": "e1677ede",
   "metadata": {},
   "outputs": [],
   "source": [
    "#reshape() "
   ]
  },
  {
   "cell_type": "code",
   "execution_count": 71,
   "id": "5f244f5d",
   "metadata": {},
   "outputs": [],
   "source": [
    "# np.reshape(a, newshape,) \n",
    "array_1d = np.array([1,2,3,4,5,6,7,8]) "
   ]
  },
  {
   "cell_type": "code",
   "execution_count": 72,
   "id": "ffd07434",
   "metadata": {},
   "outputs": [
    {
     "data": {
      "text/plain": [
       "array([1, 2, 3, 4, 5, 6, 7, 8])"
      ]
     },
     "execution_count": 72,
     "metadata": {},
     "output_type": "execute_result"
    }
   ],
   "source": [
    "array_1d "
   ]
  },
  {
   "cell_type": "code",
   "execution_count": 73,
   "id": "b79901f8",
   "metadata": {},
   "outputs": [],
   "source": [
    "Reshape2d = array_1d.reshape(2,2,2) "
   ]
  },
  {
   "cell_type": "code",
   "execution_count": 74,
   "id": "c03fe26d",
   "metadata": {},
   "outputs": [
    {
     "data": {
      "text/plain": [
       "array([[[1, 2],\n",
       "        [3, 4]],\n",
       "\n",
       "       [[5, 6],\n",
       "        [7, 8]]])"
      ]
     },
     "execution_count": 74,
     "metadata": {},
     "output_type": "execute_result"
    }
   ],
   "source": [
    "Reshape2d"
   ]
  },
  {
   "cell_type": "code",
   "execution_count": 75,
   "id": "209343ab",
   "metadata": {},
   "outputs": [],
   "source": [
    "Reshape3d=array_1d.reshape(1,8,1) #for layer 1 2"
   ]
  },
  {
   "cell_type": "code",
   "execution_count": 76,
   "id": "49a27aa2",
   "metadata": {},
   "outputs": [
    {
     "data": {
      "text/plain": [
       "array([[[1],\n",
       "        [2],\n",
       "        [3],\n",
       "        [4],\n",
       "        [5],\n",
       "        [6],\n",
       "        [7],\n",
       "        [8]]])"
      ]
     },
     "execution_count": 76,
     "metadata": {},
     "output_type": "execute_result"
    }
   ],
   "source": [
    "Reshape3d"
   ]
  },
  {
   "cell_type": "code",
   "execution_count": 77,
   "id": "be8606fa",
   "metadata": {},
   "outputs": [],
   "source": [
    "Reshape3d = array_1d.reshape(2,1,4) #for layer 2 2 "
   ]
  },
  {
   "cell_type": "code",
   "execution_count": 78,
   "id": "f9d06212",
   "metadata": {},
   "outputs": [
    {
     "data": {
      "text/plain": [
       "array([[[1, 2, 3, 4]],\n",
       "\n",
       "       [[5, 6, 7, 8]]])"
      ]
     },
     "execution_count": 78,
     "metadata": {},
     "output_type": "execute_result"
    }
   ],
   "source": [
    "Reshape3d"
   ]
  },
  {
   "cell_type": "code",
   "execution_count": 79,
   "id": "01b8ced6",
   "metadata": {},
   "outputs": [],
   "source": [
    "#use arange function with reshape or viceversa 2 \n",
    "Reshape1 = np.arange(1,10).reshape(3,3) "
   ]
  },
  {
   "cell_type": "code",
   "execution_count": 80,
   "id": "e45b703c",
   "metadata": {},
   "outputs": [
    {
     "data": {
      "text/plain": [
       "array([[1, 2, 3],\n",
       "       [4, 5, 6],\n",
       "       [7, 8, 9]])"
      ]
     },
     "execution_count": 80,
     "metadata": {},
     "output_type": "execute_result"
    }
   ],
   "source": [
    "Reshape1"
   ]
  },
  {
   "cell_type": "code",
   "execution_count": 81,
   "id": "12436564",
   "metadata": {},
   "outputs": [],
   "source": [
    "Reshape1 = np.arange(1,10).reshape(1,3,3) "
   ]
  },
  {
   "cell_type": "code",
   "execution_count": 82,
   "id": "f1faa13b",
   "metadata": {},
   "outputs": [
    {
     "data": {
      "text/plain": [
       "array([[[1, 2, 3],\n",
       "        [4, 5, 6],\n",
       "        [7, 8, 9]]])"
      ]
     },
     "execution_count": 82,
     "metadata": {},
     "output_type": "execute_result"
    }
   ],
   "source": [
    "Reshape1"
   ]
  },
  {
   "cell_type": "code",
   "execution_count": 83,
   "id": "55861c29",
   "metadata": {},
   "outputs": [],
   "source": [
    "Reshape1 = np.arange(1,28).reshape(3,3,3) "
   ]
  },
  {
   "cell_type": "code",
   "execution_count": 84,
   "id": "531f3f9e",
   "metadata": {},
   "outputs": [
    {
     "data": {
      "text/plain": [
       "array([[[ 1,  2,  3],\n",
       "        [ 4,  5,  6],\n",
       "        [ 7,  8,  9]],\n",
       "\n",
       "       [[10, 11, 12],\n",
       "        [13, 14, 15],\n",
       "        [16, 17, 18]],\n",
       "\n",
       "       [[19, 20, 21],\n",
       "        [22, 23, 24],\n",
       "        [25, 26, 27]]])"
      ]
     },
     "execution_count": 84,
     "metadata": {},
     "output_type": "execute_result"
    }
   ],
   "source": [
    "Reshape1"
   ]
  },
  {
   "cell_type": "code",
   "execution_count": 85,
   "id": "976522be",
   "metadata": {},
   "outputs": [],
   "source": [
    "#convert multidimensnioanl array in one dimensnioanl"
   ]
  },
  {
   "cell_type": "code",
   "execution_count": 86,
   "id": "28bc6043",
   "metadata": {},
   "outputs": [
    {
     "data": {
      "text/plain": [
       "array([ 1,  2,  3,  4,  5,  6,  7,  8,  9, 10, 11, 12, 13, 14, 15, 16, 17,\n",
       "       18, 19, 20, 21, 22, 23, 24, 25, 26, 27])"
      ]
     },
     "execution_count": 86,
     "metadata": {},
     "output_type": "execute_result"
    }
   ],
   "source": [
    "Reshape1.ravel(order='A') # 'A' 1,2,3... in order"
   ]
  },
  {
   "cell_type": "code",
   "execution_count": 87,
   "id": "e761513f",
   "metadata": {},
   "outputs": [
    {
     "data": {
      "text/plain": [
       "array([ 1, 10, 19,  4, 13, 22,  7, 16, 25,  2, 11, 20,  5, 14, 23,  8, 17,\n",
       "       26,  3, 12, 21,  6, 15, 24,  9, 18, 27])"
      ]
     },
     "execution_count": 87,
     "metadata": {},
     "output_type": "execute_result"
    }
   ],
   "source": [
    "Reshape1.ravel(order='F') #\"F\" not in order"
   ]
  },
  {
   "cell_type": "code",
   "execution_count": 88,
   "id": "017b6fe1",
   "metadata": {},
   "outputs": [
    {
     "data": {
      "text/plain": [
       "array([ 1,  2,  3,  4,  5,  6,  7,  8,  9, 10, 11, 12, 13, 14, 15, 16, 17,\n",
       "       18, 19, 20, 21, 22, 23, 24, 25, 26, 27])"
      ]
     },
     "execution_count": 88,
     "metadata": {},
     "output_type": "execute_result"
    }
   ],
   "source": [
    "Reshape1.ravel(order='K')"
   ]
  },
  {
   "cell_type": "code",
   "execution_count": 89,
   "id": "796ffd4d",
   "metadata": {},
   "outputs": [
    {
     "data": {
      "text/plain": [
       "array([ 1,  2,  3,  4,  5,  6,  7,  8,  9, 10, 11, 12, 13, 14, 15, 16, 17,\n",
       "       18, 19, 20, 21, 22, 23, 24, 25, 26, 27])"
      ]
     },
     "execution_count": 89,
     "metadata": {},
     "output_type": "execute_result"
    }
   ],
   "source": [
    "Reshape1.ravel(order='C')"
   ]
  },
  {
   "cell_type": "code",
   "execution_count": 90,
   "id": "1b2bcf26",
   "metadata": {},
   "outputs": [],
   "source": [
    "#flatten()"
   ]
  },
  {
   "cell_type": "code",
   "execution_count": 91,
   "id": "1865a872",
   "metadata": {},
   "outputs": [
    {
     "data": {
      "text/plain": [
       "array([ 1,  2,  3,  4,  5,  6,  7,  8,  9, 10, 11, 12, 13, 14, 15, 16, 17,\n",
       "       18, 19, 20, 21, 22, 23, 24, 25, 26, 27])"
      ]
     },
     "execution_count": 91,
     "metadata": {},
     "output_type": "execute_result"
    }
   ],
   "source": [
    "Reshape1.flatten()"
   ]
  },
  {
   "cell_type": "code",
   "execution_count": 92,
   "id": "adda6415",
   "metadata": {},
   "outputs": [
    {
     "data": {
      "text/plain": [
       "array([ 1,  2,  3,  4,  5,  6,  7,  8,  9, 10, 11, 12, 13, 14, 15, 16, 17,\n",
       "       18, 19, 20, 21, 22, 23, 24, 25, 26, 27])"
      ]
     },
     "execution_count": 92,
     "metadata": {},
     "output_type": "execute_result"
    }
   ],
   "source": [
    "Reshape1.flatten(order='C')"
   ]
  },
  {
   "cell_type": "code",
   "execution_count": 93,
   "id": "93ab7e75",
   "metadata": {},
   "outputs": [
    {
     "data": {
      "text/plain": [
       "array([ 1, 10, 19,  4, 13, 22,  7, 16, 25,  2, 11, 20,  5, 14, 23,  8, 17,\n",
       "       26,  3, 12, 21,  6, 15, 24,  9, 18, 27])"
      ]
     },
     "execution_count": 93,
     "metadata": {},
     "output_type": "execute_result"
    }
   ],
   "source": [
    "Reshape1.flatten(order='F')"
   ]
  },
  {
   "cell_type": "code",
   "execution_count": 94,
   "id": "469f6455",
   "metadata": {},
   "outputs": [],
   "source": [
    "#transpose() # convert rows into colimn or viceversa"
   ]
  },
  {
   "cell_type": "code",
   "execution_count": 95,
   "id": "419dbc1f",
   "metadata": {},
   "outputs": [
    {
     "data": {
      "text/plain": [
       "array([[[ 1, 10, 19],\n",
       "        [ 4, 13, 22],\n",
       "        [ 7, 16, 25]],\n",
       "\n",
       "       [[ 2, 11, 20],\n",
       "        [ 5, 14, 23],\n",
       "        [ 8, 17, 26]],\n",
       "\n",
       "       [[ 3, 12, 21],\n",
       "        [ 6, 15, 24],\n",
       "        [ 9, 18, 27]]])"
      ]
     },
     "execution_count": 95,
     "metadata": {},
     "output_type": "execute_result"
    }
   ],
   "source": [
    "Reshape1.transpose()"
   ]
  },
  {
   "cell_type": "code",
   "execution_count": 96,
   "id": "3c3fefd1",
   "metadata": {},
   "outputs": [
    {
     "data": {
      "text/plain": [
       "array([[[ 1, 10, 19],\n",
       "        [ 4, 13, 22],\n",
       "        [ 7, 16, 25]],\n",
       "\n",
       "       [[ 2, 11, 20],\n",
       "        [ 5, 14, 23],\n",
       "        [ 8, 17, 26]],\n",
       "\n",
       "       [[ 3, 12, 21],\n",
       "        [ 6, 15, 24],\n",
       "        [ 9, 18, 27]]])"
      ]
     },
     "execution_count": 96,
     "metadata": {},
     "output_type": "execute_result"
    }
   ],
   "source": [
    "Reshape1.T"
   ]
  },
  {
   "cell_type": "code",
   "execution_count": 97,
   "id": "ef877155",
   "metadata": {},
   "outputs": [
    {
     "name": "stdout",
     "output_type": "stream",
     "text": [
      "[[[ 1  2  3]\n",
      "  [ 4  5  6]\n",
      "  [ 7  8  9]]\n",
      "\n",
      " [[10 11 12]\n",
      "  [13 14 15]\n",
      "  [16 17 18]]\n",
      "\n",
      " [[19 20 21]\n",
      "  [22 23 24]\n",
      "  [25 26 27]]]\n"
     ]
    }
   ],
   "source": [
    "print(Reshape1)"
   ]
  },
  {
   "cell_type": "code",
   "execution_count": 98,
   "id": "0878de6c",
   "metadata": {},
   "outputs": [],
   "source": [
    "#Numpy Operation"
   ]
  },
  {
   "cell_type": "code",
   "execution_count": 99,
   "id": "7fd9a20d",
   "metadata": {},
   "outputs": [],
   "source": [
    "array1 = np.arange(1,13).reshape(4,3)\n",
    "array2 = np.arange(1,13).reshape(4,3)"
   ]
  },
  {
   "cell_type": "code",
   "execution_count": 100,
   "id": "8ceab2c4",
   "metadata": {},
   "outputs": [
    {
     "name": "stdout",
     "output_type": "stream",
     "text": [
      "[[ 1  2  3]\n",
      " [ 4  5  6]\n",
      " [ 7  8  9]\n",
      " [10 11 12]]\n"
     ]
    }
   ],
   "source": [
    "print(array1)"
   ]
  },
  {
   "cell_type": "code",
   "execution_count": 101,
   "id": "3372f37f",
   "metadata": {},
   "outputs": [
    {
     "name": "stdout",
     "output_type": "stream",
     "text": [
      "[[ 1  2  3]\n",
      " [ 4  5  6]\n",
      " [ 7  8  9]\n",
      " [10 11 12]]\n"
     ]
    }
   ],
   "source": [
    "print(array2)"
   ]
  },
  {
   "cell_type": "code",
   "execution_count": 102,
   "id": "4f8584ae",
   "metadata": {},
   "outputs": [
    {
     "data": {
      "text/plain": [
       "array([[ 2,  4,  6],\n",
       "       [ 8, 10, 12],\n",
       "       [14, 16, 18],\n",
       "       [20, 22, 24]])"
      ]
     },
     "execution_count": 102,
     "metadata": {},
     "output_type": "execute_result"
    }
   ],
   "source": [
    "#addition\n",
    "array1+array2"
   ]
  },
  {
   "cell_type": "code",
   "execution_count": 103,
   "id": "8af6e1cd",
   "metadata": {},
   "outputs": [
    {
     "data": {
      "text/plain": [
       "array([[ 2,  4,  6],\n",
       "       [ 8, 10, 12],\n",
       "       [14, 16, 18],\n",
       "       [20, 22, 24]])"
      ]
     },
     "execution_count": 103,
     "metadata": {},
     "output_type": "execute_result"
    }
   ],
   "source": [
    "#add()\n",
    "np.add(array1, array2)"
   ]
  },
  {
   "cell_type": "code",
   "execution_count": 104,
   "id": "1d75c6d2",
   "metadata": {},
   "outputs": [
    {
     "data": {
      "text/plain": [
       "array([[0, 0, 0],\n",
       "       [0, 0, 0],\n",
       "       [0, 0, 0],\n",
       "       [0, 0, 0]])"
      ]
     },
     "execution_count": 104,
     "metadata": {},
     "output_type": "execute_result"
    }
   ],
   "source": [
    "#subtract()\n",
    "np.subtract(array1, array2)"
   ]
  },
  {
   "cell_type": "code",
   "execution_count": 105,
   "id": "9dbf0387",
   "metadata": {},
   "outputs": [
    {
     "data": {
      "text/plain": [
       "array([[  1,   4,   9],\n",
       "       [ 16,  25,  36],\n",
       "       [ 49,  64,  81],\n",
       "       [100, 121, 144]])"
      ]
     },
     "execution_count": 105,
     "metadata": {},
     "output_type": "execute_result"
    }
   ],
   "source": [
    "#multiply()\n",
    "np.multiply(array1, array2)"
   ]
  },
  {
   "cell_type": "code",
   "execution_count": 106,
   "id": "e09664bc",
   "metadata": {},
   "outputs": [
    {
     "data": {
      "text/plain": [
       "array([[1., 1., 1.],\n",
       "       [1., 1., 1.],\n",
       "       [1., 1., 1.],\n",
       "       [1., 1., 1.]])"
      ]
     },
     "execution_count": 106,
     "metadata": {},
     "output_type": "execute_result"
    }
   ],
   "source": [
    "#divide()\n",
    "np.divide(array1, array2)"
   ]
  },
  {
   "cell_type": "code",
   "execution_count": 107,
   "id": "64116717",
   "metadata": {},
   "outputs": [
    {
     "name": "stdout",
     "output_type": "stream",
     "text": [
      "[[1 2 3]\n",
      " [4 5 6]\n",
      " [7 8 9]]\n",
      "[[1 2 3]\n",
      " [4 5 6]\n",
      " [7 8 9]]\n"
     ]
    }
   ],
   "source": [
    "#matrix product\n",
    "#addition of column and rows\n",
    "ar1 = np.arange(1,10).reshape(3,3)\n",
    "ar2 = np.arange(1,10).reshape(3,3)\n",
    "print(ar1)\n",
    "print(ar2)"
   ]
  },
  {
   "cell_type": "code",
   "execution_count": 108,
   "id": "c4701f4f",
   "metadata": {},
   "outputs": [
    {
     "data": {
      "text/plain": [
       "45"
      ]
     },
     "execution_count": 108,
     "metadata": {},
     "output_type": "execute_result"
    }
   ],
   "source": [
    "1+2+3+4+5+6+7+8+9"
   ]
  },
  {
   "cell_type": "code",
   "execution_count": 109,
   "id": "3be67755",
   "metadata": {},
   "outputs": [
    {
     "data": {
      "text/plain": [
       "array([[ 30,  36,  42],\n",
       "       [ 66,  81,  96],\n",
       "       [102, 126, 150]])"
      ]
     },
     "execution_count": 109,
     "metadata": {},
     "output_type": "execute_result"
    }
   ],
   "source": [
    "ar1.dot(ar2) # 1+8+21=30 like vise multiply first row first coloum then add+ it"
   ]
  },
  {
   "cell_type": "code",
   "execution_count": 110,
   "id": "76c359b4",
   "metadata": {},
   "outputs": [
    {
     "data": {
      "text/plain": [
       "array([[1, 2, 3],\n",
       "       [4, 5, 6],\n",
       "       [7, 8, 9]])"
      ]
     },
     "execution_count": 110,
     "metadata": {},
     "output_type": "execute_result"
    }
   ],
   "source": [
    "#max()\n",
    "#find maximum value in the matrix\n",
    "ar1"
   ]
  },
  {
   "cell_type": "code",
   "execution_count": 111,
   "id": "1bb3e377",
   "metadata": {},
   "outputs": [
    {
     "data": {
      "text/plain": [
       "9"
      ]
     },
     "execution_count": 111,
     "metadata": {},
     "output_type": "execute_result"
    }
   ],
   "source": [
    "ar1.max()"
   ]
  },
  {
   "cell_type": "code",
   "execution_count": 112,
   "id": "a1d2fbf6",
   "metadata": {},
   "outputs": [
    {
     "data": {
      "text/plain": [
       "8"
      ]
     },
     "execution_count": 112,
     "metadata": {},
     "output_type": "execute_result"
    }
   ],
   "source": [
    "#argmax()\n",
    "#find index of the maximum value\n",
    "ar1.argmax()"
   ]
  },
  {
   "cell_type": "code",
   "execution_count": 113,
   "id": "bbbcf9bc",
   "metadata": {},
   "outputs": [],
   "source": [
    "aa = np.random.randint(1,10,9).reshape(3,3)"
   ]
  },
  {
   "cell_type": "code",
   "execution_count": 114,
   "id": "532819aa",
   "metadata": {},
   "outputs": [
    {
     "data": {
      "text/plain": [
       "array([[6, 2, 7],\n",
       "       [9, 3, 3],\n",
       "       [4, 8, 5]])"
      ]
     },
     "execution_count": 114,
     "metadata": {},
     "output_type": "execute_result"
    }
   ],
   "source": [
    "aa"
   ]
  },
  {
   "cell_type": "code",
   "execution_count": 115,
   "id": "cede849d",
   "metadata": {},
   "outputs": [
    {
     "data": {
      "text/plain": [
       "(9, 3)"
      ]
     },
     "execution_count": 115,
     "metadata": {},
     "output_type": "execute_result"
    }
   ],
   "source": [
    "aa.max(), aa.argmax()"
   ]
  },
  {
   "cell_type": "code",
   "execution_count": 116,
   "id": "cee9f64f",
   "metadata": {},
   "outputs": [
    {
     "data": {
      "text/plain": [
       "array([[1, 2, 3],\n",
       "       [4, 5, 6],\n",
       "       [7, 8, 9]])"
      ]
     },
     "execution_count": 116,
     "metadata": {},
     "output_type": "execute_result"
    }
   ],
   "source": [
    "#find maximum value in columns and rows using axis parameter\n",
    "# 0 Represent columns and 1 represent Rows\n",
    "ar1"
   ]
  },
  {
   "cell_type": "code",
   "execution_count": 117,
   "id": "399e847d",
   "metadata": {},
   "outputs": [
    {
     "data": {
      "text/plain": [
       "array([7, 8, 9])"
      ]
     },
     "execution_count": 117,
     "metadata": {},
     "output_type": "execute_result"
    }
   ],
   "source": [
    "ar1.max(axis=0) #max in columns"
   ]
  },
  {
   "cell_type": "code",
   "execution_count": 118,
   "id": "c260449a",
   "metadata": {},
   "outputs": [
    {
     "data": {
      "text/plain": [
       "array([3, 6, 9])"
      ]
     },
     "execution_count": 118,
     "metadata": {},
     "output_type": "execute_result"
    }
   ],
   "source": [
    "ar1.max(axis=1) #max in rows"
   ]
  },
  {
   "cell_type": "code",
   "execution_count": 119,
   "id": "5314736d",
   "metadata": {},
   "outputs": [
    {
     "data": {
      "text/plain": [
       "array([[1, 2, 3],\n",
       "       [4, 5, 6],\n",
       "       [7, 8, 9]])"
      ]
     },
     "execution_count": 119,
     "metadata": {},
     "output_type": "execute_result"
    }
   ],
   "source": [
    "#sum()\n",
    "#syntax:\n",
    "#np.sum(a,axis=None,dtype=None)\n",
    "ar1"
   ]
  },
  {
   "cell_type": "code",
   "execution_count": 120,
   "id": "e108f737",
   "metadata": {},
   "outputs": [
    {
     "data": {
      "text/plain": [
       "45"
      ]
     },
     "execution_count": 120,
     "metadata": {},
     "output_type": "execute_result"
    }
   ],
   "source": [
    "ar1.sum()"
   ]
  },
  {
   "cell_type": "code",
   "execution_count": 121,
   "id": "2f50fa5b",
   "metadata": {},
   "outputs": [],
   "source": [
    "a = np.sum(ar1, axis=0) #addition of columns"
   ]
  },
  {
   "cell_type": "code",
   "execution_count": 122,
   "id": "77b3dc4e",
   "metadata": {},
   "outputs": [
    {
     "data": {
      "text/plain": [
       "array([12, 15, 18])"
      ]
     },
     "execution_count": 122,
     "metadata": {},
     "output_type": "execute_result"
    }
   ],
   "source": [
    "a"
   ]
  },
  {
   "cell_type": "code",
   "execution_count": 123,
   "id": "bc6352ec",
   "metadata": {},
   "outputs": [],
   "source": [
    "a = np.sum(ar1, axis=1) #addition of rows"
   ]
  },
  {
   "cell_type": "code",
   "execution_count": 124,
   "id": "29b3dbe7",
   "metadata": {},
   "outputs": [
    {
     "data": {
      "text/plain": [
       "array([ 6, 15, 24])"
      ]
     },
     "execution_count": 124,
     "metadata": {},
     "output_type": "execute_result"
    }
   ],
   "source": [
    "a"
   ]
  },
  {
   "cell_type": "code",
   "execution_count": 125,
   "id": "8d269db6",
   "metadata": {},
   "outputs": [
    {
     "data": {
      "text/plain": [
       "array([[1, 2, 3],\n",
       "       [4, 5, 6],\n",
       "       [7, 8, 9]])"
      ]
     },
     "execution_count": 125,
     "metadata": {},
     "output_type": "execute_result"
    }
   ],
   "source": [
    "#mean()\n",
    "#Find average value in the matyrix\n",
    "ar1"
   ]
  },
  {
   "cell_type": "code",
   "execution_count": 126,
   "id": "b07a08ef",
   "metadata": {},
   "outputs": [
    {
     "data": {
      "text/plain": [
       "5.0"
      ]
     },
     "execution_count": 126,
     "metadata": {},
     "output_type": "execute_result"
    }
   ],
   "source": [
    "#addition of all element and divide by number of elements\n",
    "ar1.mean()"
   ]
  },
  {
   "cell_type": "code",
   "execution_count": 127,
   "id": "d95d623c",
   "metadata": {},
   "outputs": [
    {
     "data": {
      "text/plain": [
       "array([[1, 2, 3],\n",
       "       [4, 5, 6],\n",
       "       [7, 8, 9]])"
      ]
     },
     "execution_count": 127,
     "metadata": {},
     "output_type": "execute_result"
    }
   ],
   "source": [
    "#sqrt() & square()\n",
    "#e.g. 9 square root 3 and 3 square 9\n",
    "ar1"
   ]
  },
  {
   "cell_type": "code",
   "execution_count": 128,
   "id": "c49cd0d7",
   "metadata": {},
   "outputs": [
    {
     "data": {
      "text/plain": [
       "array([[1.        , 1.41421356, 1.73205081],\n",
       "       [2.        , 2.23606798, 2.44948974],\n",
       "       [2.64575131, 2.82842712, 3.        ]])"
      ]
     },
     "execution_count": 128,
     "metadata": {},
     "output_type": "execute_result"
    }
   ],
   "source": [
    "np.sqrt(ar1)"
   ]
  },
  {
   "cell_type": "code",
   "execution_count": 129,
   "id": "0ef0af1f",
   "metadata": {},
   "outputs": [
    {
     "data": {
      "text/plain": [
       "array([[ 1,  4,  9],\n",
       "       [16, 25, 36],\n",
       "       [49, 64, 81]], dtype=int32)"
      ]
     },
     "execution_count": 129,
     "metadata": {},
     "output_type": "execute_result"
    }
   ],
   "source": [
    "np.square(ar1)"
   ]
  },
  {
   "cell_type": "code",
   "execution_count": 130,
   "id": "91de005d",
   "metadata": {},
   "outputs": [
    {
     "data": {
      "text/plain": [
       "2.581988897471611"
      ]
     },
     "execution_count": 130,
     "metadata": {},
     "output_type": "execute_result"
    }
   ],
   "source": [
    "#std()\n",
    "#find standard deviation\n",
    "np.std(ar1)"
   ]
  },
  {
   "cell_type": "code",
   "execution_count": 131,
   "id": "88d02421",
   "metadata": {},
   "outputs": [
    {
     "data": {
      "text/plain": [
       "array([[2.71828183e+00, 7.38905610e+00, 2.00855369e+01],\n",
       "       [5.45981500e+01, 1.48413159e+02, 4.03428793e+02],\n",
       "       [1.09663316e+03, 2.98095799e+03, 8.10308393e+03]])"
      ]
     },
     "execution_count": 131,
     "metadata": {},
     "output_type": "execute_result"
    }
   ],
   "source": [
    "#exp()\n",
    "#find exponent\n",
    "np.exp(ar1)"
   ]
  },
  {
   "cell_type": "code",
   "execution_count": 132,
   "id": "bf89c7e5",
   "metadata": {},
   "outputs": [
    {
     "data": {
      "text/plain": [
       "array([[0.        , 0.69314718, 1.09861229],\n",
       "       [1.38629436, 1.60943791, 1.79175947],\n",
       "       [1.94591015, 2.07944154, 2.19722458]])"
      ]
     },
     "execution_count": 132,
     "metadata": {},
     "output_type": "execute_result"
    }
   ],
   "source": [
    "#log() and logbase10=log10\n",
    "np.log(ar1)"
   ]
  },
  {
   "cell_type": "code",
   "execution_count": 133,
   "id": "e3ef54e2",
   "metadata": {},
   "outputs": [
    {
     "data": {
      "text/plain": [
       "array([[0.        , 0.30103   , 0.47712125],\n",
       "       [0.60205999, 0.69897   , 0.77815125],\n",
       "       [0.84509804, 0.90308999, 0.95424251]])"
      ]
     },
     "execution_count": 133,
     "metadata": {},
     "output_type": "execute_result"
    }
   ],
   "source": [
    "np.log10(ar1)"
   ]
  },
  {
   "cell_type": "code",
   "execution_count": 134,
   "id": "dc1e881e",
   "metadata": {},
   "outputs": [],
   "source": [
    "#Array Slicing in Numpy"
   ]
  },
  {
   "cell_type": "code",
   "execution_count": 135,
   "id": "7d366240",
   "metadata": {},
   "outputs": [
    {
     "data": {
      "text/plain": [
       "array([[ 1,  2,  3,  4,  5],\n",
       "       [ 6,  7,  8,  9, 10],\n",
       "       [11, 12, 13, 14, 15],\n",
       "       [16, 17, 18, 19, 20],\n",
       "       [21, 22, 23, 24, 25]])"
      ]
     },
     "execution_count": 135,
     "metadata": {},
     "output_type": "execute_result"
    }
   ],
   "source": [
    "mx = np.arange(1,26).reshape(5,5)\n",
    "mx"
   ]
  },
  {
   "cell_type": "code",
   "execution_count": 136,
   "id": "736dcffa",
   "metadata": {},
   "outputs": [
    {
     "data": {
      "text/plain": [
       "1"
      ]
     },
     "execution_count": 136,
     "metadata": {},
     "output_type": "execute_result"
    }
   ],
   "source": [
    "#print 1 element -1D\n",
    "mx[0,0]"
   ]
  },
  {
   "cell_type": "code",
   "execution_count": 137,
   "id": "7d1f1530",
   "metadata": {},
   "outputs": [
    {
     "data": {
      "text/plain": [
       "0"
      ]
     },
     "execution_count": 137,
     "metadata": {},
     "output_type": "execute_result"
    }
   ],
   "source": [
    "#check dimension\n",
    "mx[0,0].ndim"
   ]
  },
  {
   "cell_type": "code",
   "execution_count": 138,
   "id": "777be240",
   "metadata": {},
   "outputs": [
    {
     "data": {
      "text/plain": [
       "array([[1, 2, 3, 4, 5]])"
      ]
     },
     "execution_count": 138,
     "metadata": {},
     "output_type": "execute_result"
    }
   ],
   "source": [
    "#single rows - 2D\n",
    "mx[0:1,0:6]"
   ]
  },
  {
   "cell_type": "code",
   "execution_count": 139,
   "id": "c3244a52",
   "metadata": {},
   "outputs": [
    {
     "data": {
      "text/plain": [
       "array([[ 1],\n",
       "       [ 6],\n",
       "       [11],\n",
       "       [16],\n",
       "       [21]])"
      ]
     },
     "execution_count": 139,
     "metadata": {},
     "output_type": "execute_result"
    }
   ],
   "source": [
    "#single columns\n",
    "mx[0:6,0:1]"
   ]
  },
  {
   "cell_type": "code",
   "execution_count": 140,
   "id": "d87aeb17",
   "metadata": {},
   "outputs": [
    {
     "data": {
      "text/plain": [
       "array([[ 1,  2,  3,  4,  5],\n",
       "       [ 6,  7,  8,  9, 10],\n",
       "       [11, 12, 13, 14, 15],\n",
       "       [16, 17, 18, 19, 20],\n",
       "       [21, 22, 23, 24, 25]])"
      ]
     },
     "execution_count": 140,
     "metadata": {},
     "output_type": "execute_result"
    }
   ],
   "source": [
    "#find random number\n",
    "mx"
   ]
  },
  {
   "cell_type": "code",
   "execution_count": 141,
   "id": "c7a87a8e",
   "metadata": {},
   "outputs": [
    {
     "data": {
      "text/plain": [
       "array([[13, 14],\n",
       "       [18, 19]])"
      ]
     },
     "execution_count": 141,
     "metadata": {},
     "output_type": "execute_result"
    }
   ],
   "source": [
    "# [13,14\n",
    "# 18,19]\n",
    "mx[2:4,2:4]"
   ]
  },
  {
   "cell_type": "code",
   "execution_count": 142,
   "id": "9af36b7e",
   "metadata": {},
   "outputs": [
    {
     "data": {
      "text/plain": [
       "array([[ 7,  9],\n",
       "       [17, 19]])"
      ]
     },
     "execution_count": 142,
     "metadata": {},
     "output_type": "execute_result"
    }
   ],
   "source": [
    "#use step parameters\n",
    "# [7,9\n",
    "# 17,19]\n",
    "mx[1:4:2, 1:4:2]"
   ]
  },
  {
   "cell_type": "code",
   "execution_count": 143,
   "id": "ec4abaaa",
   "metadata": {},
   "outputs": [
    {
     "data": {
      "text/plain": [
       "4"
      ]
     },
     "execution_count": 143,
     "metadata": {},
     "output_type": "execute_result"
    }
   ],
   "source": [
    "#size of the item\n",
    "mx.itemsize"
   ]
  },
  {
   "cell_type": "code",
   "execution_count": 144,
   "id": "31d26950",
   "metadata": {},
   "outputs": [
    {
     "data": {
      "text/plain": [
       "dtype('int32')"
      ]
     },
     "execution_count": 144,
     "metadata": {},
     "output_type": "execute_result"
    }
   ],
   "source": [
    "mx.dtype"
   ]
  },
  {
   "cell_type": "code",
   "execution_count": 145,
   "id": "babf03b5",
   "metadata": {},
   "outputs": [],
   "source": [
    "#Array Concatenation and Split\n",
    "a1 = np.arange(1,10).reshape(3,3)\n",
    "a2 = np.arange(10,19).reshape(3,3)"
   ]
  },
  {
   "cell_type": "code",
   "execution_count": 146,
   "id": "670cd508",
   "metadata": {},
   "outputs": [
    {
     "data": {
      "text/plain": [
       "array([[1, 2, 3],\n",
       "       [4, 5, 6],\n",
       "       [7, 8, 9]])"
      ]
     },
     "execution_count": 146,
     "metadata": {},
     "output_type": "execute_result"
    }
   ],
   "source": [
    "a1"
   ]
  },
  {
   "cell_type": "code",
   "execution_count": 147,
   "id": "bbba246f",
   "metadata": {},
   "outputs": [
    {
     "data": {
      "text/plain": [
       "array([[10, 11, 12],\n",
       "       [13, 14, 15],\n",
       "       [16, 17, 18]])"
      ]
     },
     "execution_count": 147,
     "metadata": {},
     "output_type": "execute_result"
    }
   ],
   "source": [
    "a2"
   ]
  },
  {
   "cell_type": "code",
   "execution_count": 148,
   "id": "09922bca",
   "metadata": {},
   "outputs": [
    {
     "data": {
      "text/plain": [
       "array([[11, 13, 15],\n",
       "       [17, 19, 21],\n",
       "       [23, 25, 27]])"
      ]
     },
     "execution_count": 148,
     "metadata": {},
     "output_type": "execute_result"
    }
   ],
   "source": [
    "a1+a2"
   ]
  },
  {
   "cell_type": "code",
   "execution_count": 149,
   "id": "dbf75b66",
   "metadata": {},
   "outputs": [
    {
     "data": {
      "text/plain": [
       "array([[ 1,  2,  3],\n",
       "       [ 4,  5,  6],\n",
       "       [ 7,  8,  9],\n",
       "       [10, 11, 12],\n",
       "       [13, 14, 15],\n",
       "       [16, 17, 18]])"
      ]
     },
     "execution_count": 149,
     "metadata": {},
     "output_type": "execute_result"
    }
   ],
   "source": [
    "#use concatenate\n",
    "np.concatenate((a1,a2))"
   ]
  },
  {
   "cell_type": "code",
   "execution_count": 150,
   "id": "09db6f25",
   "metadata": {},
   "outputs": [
    {
     "data": {
      "text/plain": [
       "array([[ 1,  2,  3],\n",
       "       [ 4,  5,  6],\n",
       "       [ 7,  8,  9],\n",
       "       [10, 11, 12],\n",
       "       [13, 14, 15],\n",
       "       [16, 17, 18]])"
      ]
     },
     "execution_count": 150,
     "metadata": {},
     "output_type": "execute_result"
    }
   ],
   "source": [
    "np.concatenate((a1,a2), axis=0)"
   ]
  },
  {
   "cell_type": "code",
   "execution_count": 151,
   "id": "9c63bf4f",
   "metadata": {},
   "outputs": [
    {
     "data": {
      "text/plain": [
       "array([[ 1,  4,  7, 10, 13, 16],\n",
       "       [ 2,  5,  8, 11, 14, 17],\n",
       "       [ 3,  6,  9, 12, 15, 18]])"
      ]
     },
     "execution_count": 151,
     "metadata": {},
     "output_type": "execute_result"
    }
   ],
   "source": [
    "np.concatenate((a1,a2)).T"
   ]
  },
  {
   "cell_type": "code",
   "execution_count": 152,
   "id": "8d13bd42",
   "metadata": {},
   "outputs": [
    {
     "data": {
      "text/plain": [
       "array([[ 1,  2,  3],\n",
       "       [ 4,  5,  6],\n",
       "       [ 7,  8,  9],\n",
       "       [10, 11, 12],\n",
       "       [13, 14, 15],\n",
       "       [16, 17, 18]])"
      ]
     },
     "execution_count": 152,
     "metadata": {},
     "output_type": "execute_result"
    }
   ],
   "source": [
    "#verical concate\n",
    "np.vstack((a1,a2))"
   ]
  },
  {
   "cell_type": "code",
   "execution_count": 153,
   "id": "3dedea12",
   "metadata": {},
   "outputs": [
    {
     "data": {
      "text/plain": [
       "array([[ 1,  2,  3, 10, 11, 12],\n",
       "       [ 4,  5,  6, 13, 14, 15],\n",
       "       [ 7,  8,  9, 16, 17, 18]])"
      ]
     },
     "execution_count": 153,
     "metadata": {},
     "output_type": "execute_result"
    }
   ],
   "source": [
    "#horizantal concate\n",
    "np.hstack((a1,a2))"
   ]
  },
  {
   "cell_type": "code",
   "execution_count": 154,
   "id": "538efea2",
   "metadata": {},
   "outputs": [
    {
     "data": {
      "text/plain": [
       "array([[ 1,  2,  3,  4],\n",
       "       [ 5,  6,  7,  8],\n",
       "       [ 9, 10, 11, 12],\n",
       "       [13, 14, 15, 16],\n",
       "       [17, 18, 19, 20],\n",
       "       [21, 22, 23, 24]])"
      ]
     },
     "execution_count": 154,
     "metadata": {},
     "output_type": "execute_result"
    }
   ],
   "source": [
    "#Split\n",
    "split_array = np.arange(1,25).reshape(6,4)\n",
    "split_array"
   ]
  },
  {
   "cell_type": "code",
   "execution_count": 155,
   "id": "614d082d",
   "metadata": {},
   "outputs": [
    {
     "data": {
      "text/plain": [
       "[array([[ 1,  2,  3,  4],\n",
       "        [ 5,  6,  7,  8],\n",
       "        [ 9, 10, 11, 12]]),\n",
       " array([[13, 14, 15, 16],\n",
       "        [17, 18, 19, 20],\n",
       "        [21, 22, 23, 24]])]"
      ]
     },
     "execution_count": 155,
     "metadata": {},
     "output_type": "execute_result"
    }
   ],
   "source": [
    "np.split(split_array,2)"
   ]
  },
  {
   "cell_type": "code",
   "execution_count": 156,
   "id": "7ebf9ff7",
   "metadata": {},
   "outputs": [
    {
     "data": {
      "text/plain": [
       "[array([[ 1,  2],\n",
       "        [ 5,  6],\n",
       "        [ 9, 10],\n",
       "        [13, 14],\n",
       "        [17, 18],\n",
       "        [21, 22]]),\n",
       " array([[ 3,  4],\n",
       "        [ 7,  8],\n",
       "        [11, 12],\n",
       "        [15, 16],\n",
       "        [19, 20],\n",
       "        [23, 24]])]"
      ]
     },
     "execution_count": 156,
     "metadata": {},
     "output_type": "execute_result"
    }
   ],
   "source": [
    "#split with columns\n",
    "np.split(split_array, 2, axis=1)"
   ]
  },
  {
   "cell_type": "code",
   "execution_count": 157,
   "id": "1b4efcd0",
   "metadata": {},
   "outputs": [
    {
     "data": {
      "text/plain": [
       "-0.8011526357338304"
      ]
     },
     "execution_count": 157,
     "metadata": {},
     "output_type": "execute_result"
    }
   ],
   "source": [
    "#Trignometry sin(), cos(), tan()\n",
    "np.sin(180) #in degree"
   ]
  },
  {
   "cell_type": "code",
   "execution_count": 158,
   "id": "87cc8bba",
   "metadata": {},
   "outputs": [
    {
     "data": {
      "text/plain": [
       "0.8939966636005579"
      ]
     },
     "execution_count": 158,
     "metadata": {},
     "output_type": "execute_result"
    }
   ],
   "source": [
    "np.sin(90)"
   ]
  },
  {
   "cell_type": "code",
   "execution_count": 159,
   "id": "edce7190",
   "metadata": {},
   "outputs": [
    {
     "data": {
      "text/plain": [
       "1.3386902103511544"
      ]
     },
     "execution_count": 159,
     "metadata": {},
     "output_type": "execute_result"
    }
   ],
   "source": [
    "np.tan(180)"
   ]
  },
  {
   "cell_type": "code",
   "execution_count": 160,
   "id": "ced2afc6",
   "metadata": {},
   "outputs": [
    {
     "data": {
      "text/plain": [
       "-3.380140413960958"
      ]
     },
     "execution_count": 160,
     "metadata": {},
     "output_type": "execute_result"
    }
   ],
   "source": [
    "np.tan(360)"
   ]
  },
  {
   "cell_type": "code",
   "execution_count": 161,
   "id": "370c492a",
   "metadata": {},
   "outputs": [
    {
     "data": {
      "text/plain": [
       "-0.5984600690578581"
      ]
     },
     "execution_count": 161,
     "metadata": {},
     "output_type": "execute_result"
    }
   ],
   "source": [
    "np.cos(180)"
   ]
  },
  {
   "cell_type": "code",
   "execution_count": 162,
   "id": "d556b582",
   "metadata": {},
   "outputs": [],
   "source": [
    "#5 : Random Sampling\n",
    "import random\n",
    "import numpy as np"
   ]
  },
  {
   "cell_type": "code",
   "execution_count": 163,
   "id": "c8b752c2",
   "metadata": {},
   "outputs": [
    {
     "data": {
      "text/plain": [
       "array([0.52508733, 0.93459321])"
      ]
     },
     "execution_count": 163,
     "metadata": {},
     "output_type": "execute_result"
    }
   ],
   "source": [
    "#random()\n",
    "np.random.random(2)"
   ]
  },
  {
   "cell_type": "code",
   "execution_count": 164,
   "id": "864af719",
   "metadata": {},
   "outputs": [
    {
     "data": {
      "text/plain": [
       "array([[0.82404631, 0.38567867, 0.49609751],\n",
       "       [0.96820026, 0.68175797, 0.82972223],\n",
       "       [0.0859455 , 0.00315691, 0.19133466]])"
      ]
     },
     "execution_count": 164,
     "metadata": {},
     "output_type": "execute_result"
    }
   ],
   "source": [
    "#in array\n",
    "np.random.random((3,3))"
   ]
  },
  {
   "cell_type": "code",
   "execution_count": 165,
   "id": "d2ce62b2",
   "metadata": {},
   "outputs": [
    {
     "data": {
      "text/plain": [
       "2"
      ]
     },
     "execution_count": 165,
     "metadata": {},
     "output_type": "execute_result"
    }
   ],
   "source": [
    "#randint()\n",
    "np.random.randint(3)"
   ]
  },
  {
   "cell_type": "code",
   "execution_count": 166,
   "id": "fd1dccdf",
   "metadata": {},
   "outputs": [
    {
     "data": {
      "text/plain": [
       "array([2, 2, 1, 1, 1, 2, 1, 2, 1, 2, 1, 2, 2, 2, 2, 2, 2, 2, 1, 2])"
      ]
     },
     "execution_count": 166,
     "metadata": {},
     "output_type": "execute_result"
    }
   ],
   "source": [
    "np.random.randint(1,3,20)"
   ]
  },
  {
   "cell_type": "code",
   "execution_count": 167,
   "id": "602dfed1",
   "metadata": {},
   "outputs": [
    {
     "data": {
      "text/plain": [
       "array([[1, 2, 2, 2],\n",
       "       [1, 1, 2, 1],\n",
       "       [1, 2, 2, 1],\n",
       "       [1, 2, 1, 2],\n",
       "       [2, 2, 2, 2]])"
      ]
     },
     "execution_count": 167,
     "metadata": {},
     "output_type": "execute_result"
    }
   ],
   "source": [
    "np.random.randint(1,3,(5,4))"
   ]
  },
  {
   "cell_type": "code",
   "execution_count": 168,
   "id": "f528e704",
   "metadata": {},
   "outputs": [
    {
     "data": {
      "text/plain": [
       "array([[[1, 2, 1, 2],\n",
       "        [1, 2, 1, 2],\n",
       "        [2, 1, 2, 1],\n",
       "        [2, 2, 1, 2],\n",
       "        [2, 1, 1, 2]],\n",
       "\n",
       "       [[1, 1, 1, 2],\n",
       "        [2, 1, 2, 2],\n",
       "        [2, 2, 2, 1],\n",
       "        [2, 1, 2, 2],\n",
       "        [2, 1, 2, 1]]])"
      ]
     },
     "execution_count": 168,
     "metadata": {},
     "output_type": "execute_result"
    }
   ],
   "source": [
    "#in 3D shape\n",
    "np.random.randint(1,3,(2,5,4))"
   ]
  },
  {
   "cell_type": "code",
   "execution_count": 169,
   "id": "61324f67",
   "metadata": {},
   "outputs": [
    {
     "data": {
      "text/plain": [
       "array([[2, 2, 1, 2],\n",
       "       [1, 2, 2, 1],\n",
       "       [2, 2, 1, 2],\n",
       "       [2, 1, 1, 2],\n",
       "       [1, 1, 1, 1]])"
      ]
     },
     "execution_count": 169,
     "metadata": {},
     "output_type": "execute_result"
    }
   ],
   "source": [
    "#seed()\n",
    "#in 3D shape..using seed function for does not change values of matrix\n",
    "np.random.seed(10)\n",
    "np.random.randint(1,3,(5,4))"
   ]
  },
  {
   "cell_type": "code",
   "execution_count": 170,
   "id": "fddf9f41",
   "metadata": {},
   "outputs": [
    {
     "data": {
      "text/plain": [
       "array([[2, 2, 1, 2],\n",
       "       [1, 2, 2, 1],\n",
       "       [2, 2, 1, 2],\n",
       "       [2, 1, 1, 2],\n",
       "       [1, 1, 1, 1]])"
      ]
     },
     "execution_count": 170,
     "metadata": {},
     "output_type": "execute_result"
    }
   ],
   "source": [
    "#in 3D shape..using seed function for does not change values of matrix\n",
    "np.random.seed(10)\n",
    "np.random.randint(1,3,(5,4))"
   ]
  },
  {
   "cell_type": "code",
   "execution_count": 171,
   "id": "62fd3822",
   "metadata": {},
   "outputs": [],
   "source": [
    "#6 : String operation, Comparison and Information\n",
    "str1 = \"I am a python developer\"\n",
    "str2 = \" I learn new Technology\""
   ]
  },
  {
   "cell_type": "code",
   "execution_count": 172,
   "id": "ba1090a6",
   "metadata": {},
   "outputs": [
    {
     "data": {
      "text/plain": [
       "array('I am a python developer I learn new Technology', dtype='<U46')"
      ]
     },
     "execution_count": 172,
     "metadata": {},
     "output_type": "execute_result"
    }
   ],
   "source": [
    "#char.add()\n",
    "np.char.add(str1,str2)"
   ]
  },
  {
   "cell_type": "code",
   "execution_count": 173,
   "id": "ceca4528",
   "metadata": {},
   "outputs": [
    {
     "data": {
      "text/plain": [
       "array('I am a python developerI am a python developer', dtype='<U46')"
      ]
     },
     "execution_count": 173,
     "metadata": {},
     "output_type": "execute_result"
    }
   ],
   "source": [
    "np.char.multiply(str1,2)"
   ]
  },
  {
   "cell_type": "code",
   "execution_count": 174,
   "id": "33350ed1",
   "metadata": {},
   "outputs": [
    {
     "data": {
      "text/plain": [
       "array('i am a python developer', dtype='<U23')"
      ]
     },
     "execution_count": 174,
     "metadata": {},
     "output_type": "execute_result"
    }
   ],
   "source": [
    "#char.lower()\n",
    "np.char.lower(str1)"
   ]
  },
  {
   "cell_type": "code",
   "execution_count": 175,
   "id": "42a845c7",
   "metadata": {},
   "outputs": [
    {
     "data": {
      "text/plain": [
       "array('I AM A PYTHON DEVELOPER', dtype='<U23')"
      ]
     },
     "execution_count": 175,
     "metadata": {},
     "output_type": "execute_result"
    }
   ],
   "source": [
    "np.char.upper(str1)"
   ]
  },
  {
   "cell_type": "code",
   "execution_count": 176,
   "id": "bc49956f",
   "metadata": {},
   "outputs": [
    {
     "data": {
      "text/plain": [
       "array('   I am a python developer    ', dtype='<U30')"
      ]
     },
     "execution_count": 176,
     "metadata": {},
     "output_type": "execute_result"
    }
   ],
   "source": [
    "#char.center()\n",
    "np.char.center(str1, 30)"
   ]
  },
  {
   "cell_type": "code",
   "execution_count": 177,
   "id": "8aa445a0",
   "metadata": {},
   "outputs": [
    {
     "data": {
      "text/plain": [
       "array('$$$I am a python developer$$$$', dtype='<U30')"
      ]
     },
     "execution_count": 177,
     "metadata": {},
     "output_type": "execute_result"
    }
   ],
   "source": [
    "np.char.center(str1, 30, fillchar=\"$\")"
   ]
  },
  {
   "cell_type": "code",
   "execution_count": 178,
   "id": "9127a9c2",
   "metadata": {},
   "outputs": [
    {
     "data": {
      "text/plain": [
       "array(list(['I', 'am', 'a', 'python', 'developer']), dtype=object)"
      ]
     },
     "execution_count": 178,
     "metadata": {},
     "output_type": "execute_result"
    }
   ],
   "source": [
    "#char.split()\n",
    "np.char.split(str1)"
   ]
  },
  {
   "cell_type": "code",
   "execution_count": 179,
   "id": "73ae16f9",
   "metadata": {},
   "outputs": [
    {
     "data": {
      "text/plain": [
       "array(list(['hello', 'world']), dtype=object)"
      ]
     },
     "execution_count": 179,
     "metadata": {},
     "output_type": "execute_result"
    }
   ],
   "source": [
    "np.char.splitlines(\"hello\\nworld\")"
   ]
  },
  {
   "cell_type": "code",
   "execution_count": 180,
   "id": "a67287bb",
   "metadata": {},
   "outputs": [
    {
     "data": {
      "text/plain": [
       "array(['D:M:Y', 'd/m/y', 'D-m-Y'], dtype='<U5')"
      ]
     },
     "execution_count": 180,
     "metadata": {},
     "output_type": "execute_result"
    }
   ],
   "source": [
    "#char.join()\n",
    "st1 = 'DMY'\n",
    "st2='dmy'\n",
    "st3 = 'DmY'\n",
    "np.char.join([\":\",\"/\",\"-\"], [st1,st2,st3])"
   ]
  },
  {
   "cell_type": "code",
   "execution_count": 181,
   "id": "5d7680a0",
   "metadata": {},
   "outputs": [
    {
     "data": {
      "text/plain": [
       "'I am a python developer'"
      ]
     },
     "execution_count": 181,
     "metadata": {},
     "output_type": "execute_result"
    }
   ],
   "source": [
    "#char.replace()\n",
    "str1"
   ]
  },
  {
   "cell_type": "code",
   "execution_count": 182,
   "id": "ee37f792",
   "metadata": {},
   "outputs": [
    {
     "data": {
      "text/plain": [
       "array('I Am a python developer', dtype='<U23')"
      ]
     },
     "execution_count": 182,
     "metadata": {},
     "output_type": "execute_result"
    }
   ],
   "source": [
    "np.char.replace(str1, \"am\", \"Am\")"
   ]
  },
  {
   "cell_type": "code",
   "execution_count": 183,
   "id": "3898a8c3",
   "metadata": {},
   "outputs": [],
   "source": [
    "#char.equal() -\n",
    "#for comparision\n",
    "st1,st2,\n",
    "st3='DMY'"
   ]
  },
  {
   "cell_type": "code",
   "execution_count": 184,
   "id": "7a4c62d2",
   "metadata": {},
   "outputs": [
    {
     "data": {
      "text/plain": [
       "array(True)"
      ]
     },
     "execution_count": 184,
     "metadata": {},
     "output_type": "execute_result"
    }
   ],
   "source": [
    "np.char.equal(st1,st3)"
   ]
  },
  {
   "cell_type": "code",
   "execution_count": 185,
   "id": "33c851e7",
   "metadata": {},
   "outputs": [
    {
     "data": {
      "text/plain": [
       "(array(2), 'I am a python developer')"
      ]
     },
     "execution_count": 185,
     "metadata": {},
     "output_type": "execute_result"
    }
   ],
   "source": [
    "#char.count()\n",
    "np.char.count(str1, \"a\"), str1"
   ]
  },
  {
   "cell_type": "code",
   "execution_count": 186,
   "id": "63a816ea",
   "metadata": {},
   "outputs": [
    {
     "data": {
      "text/plain": [
       "array(11)"
      ]
     },
     "execution_count": 186,
     "metadata": {},
     "output_type": "execute_result"
    }
   ],
   "source": [
    "#char.find()\n",
    "np.char.find(str1, \"o\")"
   ]
  },
  {
   "cell_type": "code",
   "execution_count": 187,
   "id": "2e41f10b",
   "metadata": {},
   "outputs": [],
   "source": [
    "#BroadCasting\n",
    "#Broadcasting allows these types of binary operations to be performed on arrays of different sizes–for example,\n",
    "#we can just as easily add a scalar (think of it as a zero-dimensional array) to an array:\n",
    "a = np.array([0, 1, 2])\n",
    "b = np.array([5, 5, 5])"
   ]
  },
  {
   "cell_type": "code",
   "execution_count": 188,
   "id": "6007c45b",
   "metadata": {},
   "outputs": [
    {
     "data": {
      "text/plain": [
       "array([5, 6, 7])"
      ]
     },
     "execution_count": 188,
     "metadata": {},
     "output_type": "execute_result"
    }
   ],
   "source": [
    "a+b"
   ]
  },
  {
   "cell_type": "code",
   "execution_count": 189,
   "id": "74ed5493",
   "metadata": {},
   "outputs": [
    {
     "data": {
      "text/plain": [
       "array([7, 8, 9])"
      ]
     },
     "execution_count": 189,
     "metadata": {},
     "output_type": "execute_result"
    }
   ],
   "source": [
    "a+7"
   ]
  },
  {
   "cell_type": "code",
   "execution_count": 190,
   "id": "80179ed8",
   "metadata": {},
   "outputs": [
    {
     "data": {
      "text/plain": [
       "array([[1., 1., 1.],\n",
       "       [1., 1., 1.],\n",
       "       [1., 1., 1.]])"
      ]
     },
     "execution_count": 190,
     "metadata": {},
     "output_type": "execute_result"
    }
   ],
   "source": [
    "c = np.ones((3,3))\n",
    "c"
   ]
  },
  {
   "cell_type": "code",
   "execution_count": 191,
   "id": "d129eebd",
   "metadata": {},
   "outputs": [
    {
     "data": {
      "text/plain": [
       "(1, 2)"
      ]
     },
     "execution_count": 191,
     "metadata": {},
     "output_type": "execute_result"
    }
   ],
   "source": [
    "a.ndim, c.ndim"
   ]
  },
  {
   "cell_type": "code",
   "execution_count": 192,
   "id": "35b62bbd",
   "metadata": {},
   "outputs": [
    {
     "data": {
      "text/plain": [
       "((3,), (3, 3))"
      ]
     },
     "execution_count": 192,
     "metadata": {},
     "output_type": "execute_result"
    }
   ],
   "source": [
    "a.shape, c.shape"
   ]
  },
  {
   "cell_type": "code",
   "execution_count": 193,
   "id": "9e0de70c",
   "metadata": {},
   "outputs": [
    {
     "data": {
      "text/plain": [
       "array([[1., 2., 3.],\n",
       "       [1., 2., 3.],\n",
       "       [1., 2., 3.]])"
      ]
     },
     "execution_count": 193,
     "metadata": {},
     "output_type": "execute_result"
    }
   ],
   "source": [
    "a+c"
   ]
  },
  {
   "cell_type": "code",
   "execution_count": 194,
   "id": "75299c0e",
   "metadata": {},
   "outputs": [],
   "source": [
    "#columns shape not same\n",
    "d= np.ones((3,2))"
   ]
  },
  {
   "cell_type": "code",
   "execution_count": 195,
   "id": "c8423247",
   "metadata": {},
   "outputs": [
    {
     "data": {
      "text/plain": [
       "array([[1., 1.],\n",
       "       [1., 1.],\n",
       "       [1., 1.]])"
      ]
     },
     "execution_count": 195,
     "metadata": {},
     "output_type": "execute_result"
    }
   ],
   "source": [
    "d"
   ]
  },
  {
   "cell_type": "code",
   "execution_count": 196,
   "id": "db337daa",
   "metadata": {},
   "outputs": [
    {
     "ename": "ValueError",
     "evalue": "operands could not be broadcast together with shapes (3,) (3,2) ",
     "output_type": "error",
     "traceback": [
      "\u001b[1;31m---------------------------------------------------------------------------\u001b[0m",
      "\u001b[1;31mValueError\u001b[0m                                Traceback (most recent call last)",
      "Input \u001b[1;32mIn [196]\u001b[0m, in \u001b[0;36m<cell line: 1>\u001b[1;34m()\u001b[0m\n\u001b[1;32m----> 1\u001b[0m \u001b[43ma\u001b[49m\u001b[38;5;241;43m+\u001b[39;49m\u001b[43md\u001b[49m\n",
      "\u001b[1;31mValueError\u001b[0m: operands could not be broadcast together with shapes (3,) (3,2) "
     ]
    }
   ],
   "source": [
    "a+d"
   ]
  },
  {
   "cell_type": "code",
   "execution_count": 197,
   "id": "daac1dfe",
   "metadata": {},
   "outputs": [],
   "source": [
    "#columns shape same\n",
    "d= np.ones((2,3))"
   ]
  },
  {
   "cell_type": "code",
   "execution_count": 198,
   "id": "be938c0e",
   "metadata": {},
   "outputs": [
    {
     "data": {
      "text/plain": [
       "array([[1., 1., 1.],\n",
       "       [1., 1., 1.]])"
      ]
     },
     "execution_count": 198,
     "metadata": {},
     "output_type": "execute_result"
    }
   ],
   "source": [
    "d"
   ]
  },
  {
   "cell_type": "code",
   "execution_count": 199,
   "id": "ae71852c",
   "metadata": {},
   "outputs": [],
   "source": [
    "##Broadcasting with 2d"
   ]
  },
  {
   "cell_type": "code",
   "execution_count": 200,
   "id": "91d3f6d7",
   "metadata": {},
   "outputs": [
    {
     "data": {
      "text/plain": [
       "array([[1., 1., 1.],\n",
       "       [1., 1., 1.],\n",
       "       [1., 1., 1.]])"
      ]
     },
     "execution_count": 200,
     "metadata": {},
     "output_type": "execute_result"
    }
   ],
   "source": [
    "c"
   ]
  },
  {
   "cell_type": "code",
   "execution_count": 201,
   "id": "fef01923",
   "metadata": {},
   "outputs": [
    {
     "data": {
      "text/plain": [
       "array([[1., 1., 1.],\n",
       "       [1., 1., 1.]])"
      ]
     },
     "execution_count": 201,
     "metadata": {},
     "output_type": "execute_result"
    }
   ],
   "source": [
    "d"
   ]
  },
  {
   "cell_type": "code",
   "execution_count": 202,
   "id": "3123f07d",
   "metadata": {},
   "outputs": [
    {
     "ename": "ValueError",
     "evalue": "operands could not be broadcast together with shapes (3,3) (2,3) ",
     "output_type": "error",
     "traceback": [
      "\u001b[1;31m---------------------------------------------------------------------------\u001b[0m",
      "\u001b[1;31mValueError\u001b[0m                                Traceback (most recent call last)",
      "Input \u001b[1;32mIn [202]\u001b[0m, in \u001b[0;36m<cell line: 1>\u001b[1;34m()\u001b[0m\n\u001b[1;32m----> 1\u001b[0m \u001b[43mc\u001b[49m\u001b[38;5;241;43m+\u001b[39;49m\u001b[43md\u001b[49m\n",
      "\u001b[1;31mValueError\u001b[0m: operands could not be broadcast together with shapes (3,3) (2,3) "
     ]
    }
   ],
   "source": [
    "c+d"
   ]
  },
  {
   "cell_type": "code",
   "execution_count": 203,
   "id": "1b81aada",
   "metadata": {},
   "outputs": [
    {
     "data": {
      "text/plain": [
       "(2, 2)"
      ]
     },
     "execution_count": 203,
     "metadata": {},
     "output_type": "execute_result"
    }
   ],
   "source": [
    "c.ndim, d.ndim"
   ]
  },
  {
   "cell_type": "code",
   "execution_count": 204,
   "id": "d72c7224",
   "metadata": {},
   "outputs": [
    {
     "data": {
      "text/plain": [
       "((3, 3), (2, 3))"
      ]
     },
     "execution_count": 204,
     "metadata": {},
     "output_type": "execute_result"
    }
   ],
   "source": [
    "c.shape, d.shape"
   ]
  },
  {
   "cell_type": "code",
   "execution_count": 205,
   "id": "d5d410db",
   "metadata": {},
   "outputs": [
    {
     "data": {
      "text/plain": [
       "array([[1., 1.],\n",
       "       [1., 1.],\n",
       "       [1., 1.]])"
      ]
     },
     "execution_count": 205,
     "metadata": {},
     "output_type": "execute_result"
    }
   ],
   "source": [
    "#transpose in 3,2\n",
    "d.T"
   ]
  },
  {
   "cell_type": "code",
   "execution_count": 206,
   "id": "c62e638b",
   "metadata": {},
   "outputs": [
    {
     "ename": "ValueError",
     "evalue": "operands could not be broadcast together with shapes (3,3) (3,2) ",
     "output_type": "error",
     "traceback": [
      "\u001b[1;31m---------------------------------------------------------------------------\u001b[0m",
      "\u001b[1;31mValueError\u001b[0m                                Traceback (most recent call last)",
      "Input \u001b[1;32mIn [206]\u001b[0m, in \u001b[0;36m<cell line: 1>\u001b[1;34m()\u001b[0m\n\u001b[1;32m----> 1\u001b[0m \u001b[43mc\u001b[49m\u001b[38;5;241;43m+\u001b[39;49m\u001b[43m(\u001b[49m\u001b[43md\u001b[49m\u001b[38;5;241;43m.\u001b[39;49m\u001b[43mT\u001b[49m\u001b[43m)\u001b[49m\n",
      "\u001b[1;31mValueError\u001b[0m: operands could not be broadcast together with shapes (3,3) (3,2) "
     ]
    }
   ],
   "source": [
    "c+(d.T)"
   ]
  },
  {
   "cell_type": "code",
   "execution_count": 207,
   "id": "0b7e9665",
   "metadata": {},
   "outputs": [],
   "source": [
    "#shape same\n",
    "e = np.ones((3,3))"
   ]
  },
  {
   "cell_type": "code",
   "execution_count": 208,
   "id": "065f5f03",
   "metadata": {},
   "outputs": [
    {
     "data": {
      "text/plain": [
       "array([[1., 1., 1.],\n",
       "       [1., 1., 1.],\n",
       "       [1., 1., 1.]])"
      ]
     },
     "execution_count": 208,
     "metadata": {},
     "output_type": "execute_result"
    }
   ],
   "source": [
    "e"
   ]
  },
  {
   "cell_type": "code",
   "execution_count": 209,
   "id": "3ebd8e68",
   "metadata": {},
   "outputs": [
    {
     "data": {
      "text/plain": [
       "array([[2., 2., 2.],\n",
       "       [2., 2., 2.],\n",
       "       [2., 2., 2.]])"
      ]
     },
     "execution_count": 209,
     "metadata": {},
     "output_type": "execute_result"
    }
   ],
   "source": [
    "c+e"
   ]
  },
  {
   "cell_type": "code",
   "execution_count": 210,
   "id": "2e9948a4",
   "metadata": {},
   "outputs": [],
   "source": [
    "#Braodcasting"
   ]
  },
  {
   "cell_type": "code",
   "execution_count": 211,
   "id": "5e9006bb",
   "metadata": {},
   "outputs": [
    {
     "data": {
      "text/plain": [
       "array([5, 6, 7])"
      ]
     },
     "execution_count": 211,
     "metadata": {},
     "output_type": "execute_result"
    }
   ],
   "source": [
    "np.arange(3)+5"
   ]
  },
  {
   "cell_type": "code",
   "execution_count": 212,
   "id": "c0a34b12",
   "metadata": {},
   "outputs": [
    {
     "data": {
      "text/plain": [
       "array([[1., 2., 3.],\n",
       "       [1., 2., 3.],\n",
       "       [1., 2., 3.]])"
      ]
     },
     "execution_count": 212,
     "metadata": {},
     "output_type": "execute_result"
    }
   ],
   "source": [
    "np.ones((3,3))+np.arange(3)"
   ]
  },
  {
   "cell_type": "code",
   "execution_count": 213,
   "id": "ec2c002e",
   "metadata": {},
   "outputs": [
    {
     "data": {
      "text/plain": [
       "array([[0, 1, 2],\n",
       "       [1, 2, 3],\n",
       "       [2, 3, 4]])"
      ]
     },
     "execution_count": 213,
     "metadata": {},
     "output_type": "execute_result"
    }
   ],
   "source": [
    "np.arange(3).reshape((3,1))+np.arange(3)"
   ]
  },
  {
   "cell_type": "code",
   "execution_count": 214,
   "id": "1ec98eb5",
   "metadata": {},
   "outputs": [
    {
     "data": {
      "text/plain": [
       "array([4, 5, 6, 7, 8])"
      ]
     },
     "execution_count": 214,
     "metadata": {},
     "output_type": "execute_result"
    }
   ],
   "source": [
    "np.arange(5)+4"
   ]
  },
  {
   "cell_type": "code",
   "execution_count": 215,
   "id": "42d8c4a5",
   "metadata": {},
   "outputs": [
    {
     "data": {
      "text/plain": [
       "array([[0, 1, 2],\n",
       "       [1, 2, 3],\n",
       "       [2, 3, 4]])"
      ]
     },
     "execution_count": 215,
     "metadata": {},
     "output_type": "execute_result"
    }
   ],
   "source": [
    "np.arange(3)+np.arange(3).reshape((3,1))"
   ]
  },
  {
   "cell_type": "code",
   "execution_count": 216,
   "id": "abaedb8c",
   "metadata": {},
   "outputs": [
    {
     "data": {
      "text/plain": [
       "array([[ 0,  2,  4,  6,  8],\n",
       "       [ 5,  7,  9, 11, 13],\n",
       "       [10, 12, 14, 16, 18]])"
      ]
     },
     "execution_count": 216,
     "metadata": {},
     "output_type": "execute_result"
    }
   ],
   "source": [
    "np.arange(15).reshape((3,5))+np.arange(5)"
   ]
  },
  {
   "cell_type": "code",
   "execution_count": 217,
   "id": "3a07cc66",
   "metadata": {},
   "outputs": [
    {
     "data": {
      "text/plain": [
       "array([[[1, 2],\n",
       "        [3, 4]],\n",
       "\n",
       "       [[5, 6],\n",
       "        [7, 8]]])"
      ]
     },
     "execution_count": 217,
     "metadata": {},
     "output_type": "execute_result"
    }
   ],
   "source": [
    "#BC in 3D : 1d + 3d\n",
    "d3 = np.arange(1,9).reshape(2,2,2)\n",
    "d3"
   ]
  },
  {
   "cell_type": "code",
   "execution_count": 218,
   "id": "eae80221",
   "metadata": {},
   "outputs": [
    {
     "data": {
      "text/plain": [
       "array([10, 20])"
      ]
     },
     "execution_count": 218,
     "metadata": {},
     "output_type": "execute_result"
    }
   ],
   "source": [
    "d1 = np.array([10,20])\n",
    "d1"
   ]
  },
  {
   "cell_type": "code",
   "execution_count": 219,
   "id": "d5a66752",
   "metadata": {},
   "outputs": [
    {
     "data": {
      "text/plain": [
       "array([[[11, 22],\n",
       "        [13, 24]],\n",
       "\n",
       "       [[15, 26],\n",
       "        [17, 28]]])"
      ]
     },
     "execution_count": 219,
     "metadata": {},
     "output_type": "execute_result"
    }
   ],
   "source": [
    "d3+d1"
   ]
  },
  {
   "cell_type": "code",
   "execution_count": 220,
   "id": "7abcfc0c",
   "metadata": {},
   "outputs": [],
   "source": [
    "#BC 2d + 3d\n",
    "d2 = np.arange(1,5).reshape(2,2)"
   ]
  },
  {
   "cell_type": "code",
   "execution_count": 221,
   "id": "1093a8f1",
   "metadata": {},
   "outputs": [
    {
     "data": {
      "text/plain": [
       "array([[1, 2],\n",
       "       [3, 4]])"
      ]
     },
     "execution_count": 221,
     "metadata": {},
     "output_type": "execute_result"
    }
   ],
   "source": [
    "d2"
   ]
  },
  {
   "cell_type": "code",
   "execution_count": 222,
   "id": "3f3d89e3",
   "metadata": {},
   "outputs": [
    {
     "data": {
      "text/plain": [
       "array([[[1, 2],\n",
       "        [3, 4]],\n",
       "\n",
       "       [[5, 6],\n",
       "        [7, 8]]])"
      ]
     },
     "execution_count": 222,
     "metadata": {},
     "output_type": "execute_result"
    }
   ],
   "source": [
    "d3"
   ]
  },
  {
   "cell_type": "code",
   "execution_count": 223,
   "id": "e752c67a",
   "metadata": {},
   "outputs": [
    {
     "data": {
      "text/plain": [
       "array([[[ 2,  4],\n",
       "        [ 6,  8]],\n",
       "\n",
       "       [[ 6,  8],\n",
       "        [10, 12]]])"
      ]
     },
     "execution_count": 223,
     "metadata": {},
     "output_type": "execute_result"
    }
   ],
   "source": [
    "d3+d2"
   ]
  },
  {
   "cell_type": "code",
   "execution_count": 224,
   "id": "7878b180",
   "metadata": {},
   "outputs": [
    {
     "data": {
      "text/plain": [
       "array([[1],\n",
       "       [2],\n",
       "       [3],\n",
       "       [4]])"
      ]
     },
     "execution_count": 224,
     "metadata": {},
     "output_type": "execute_result"
    }
   ],
   "source": [
    "#shape not same\n",
    "d2 = np.arange(1,5).reshape(4,1)\n",
    "d2"
   ]
  },
  {
   "cell_type": "code",
   "execution_count": 225,
   "id": "415c757e",
   "metadata": {},
   "outputs": [],
   "source": [
    "#Rules of Broadcasting\n",
    "#Broadcasting in NumPy follows a strict set of rules to determine the interaction between the two arrays:\n",
    "#Rule 1: If the two arrays differ in their number of dimensions, the shape of the one with fewer dimensions is padded with \n",
    "#ones on its leading (left) side.\n",
    "#Rule 2: If the shape of the two arrays does not match in any dimension, the array with shape equal to 1 in\n",
    "#that dimension is stretched to match the other shape.\n",
    "#Rule 3: If in any dimension the sizes disagree and neither is equal to 1, an error is raised."
   ]
  },
  {
   "cell_type": "code",
   "execution_count": null,
   "id": "739a4d67",
   "metadata": {},
   "outputs": [],
   "source": []
  }
 ],
 "metadata": {
  "kernelspec": {
   "display_name": "Python 3 (ipykernel)",
   "language": "python",
   "name": "python3"
  },
  "language_info": {
   "codemirror_mode": {
    "name": "ipython",
    "version": 3
   },
   "file_extension": ".py",
   "mimetype": "text/x-python",
   "name": "python",
   "nbconvert_exporter": "python",
   "pygments_lexer": "ipython3",
   "version": "3.9.12"
  }
 },
 "nbformat": 4,
 "nbformat_minor": 5
}
